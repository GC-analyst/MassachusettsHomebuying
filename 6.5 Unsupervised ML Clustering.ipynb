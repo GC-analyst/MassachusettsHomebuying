{
 "cells": [
  {
   "cell_type": "code",
   "execution_count": 2,
   "id": "957ddc5e",
   "metadata": {},
   "outputs": [],
   "source": [
    "import pandas as pd\n",
    "import numpy as np\n",
    "import seaborn as sns\n",
    "import matplotlib\n",
    "import matplotlib.pyplot as plt\n",
    "import os\n",
    "import sklearn\n",
    "from sklearn.cluster import KMeans # Here is where you import the k-means algorithm from scikit-learn.\n",
    "import pylab as pl # PyLab is a convenience module that bulk imports matplotlib."
   ]
  },
  {
   "cell_type": "markdown",
   "id": "7aadf937",
   "metadata": {},
   "source": [
    "# Task:\n",
    "1) Install and import all necessary libraries in your Jupyter notebook.\n",
    "2) Import your data and conduct any necessary cleaning, manipulations, and reprocessing (such as renaming).\n",
    "3) Recall from the Exercise that the k-means algorithm can only handle numerical variables, so you’ll need to remove any categorical columns from your data.\n",
    "4) Also recall that the difference between your variables’ scales can’t be too large or your results will be biased. Make sure you standardize your data first.\n",
    "5) Use the elbow technique as shown in the Jupyter notebook for this Exercise.\n",
    "6) Make an informed decision about the number of clusters you’ll use in your k-means algorithm based on the chart.\n",
    "7) Explain why you chose that number in a markdown cell.\n",
    "8) Run the k-means algorithm.\n",
    "9) Attach a new column to your dataframe with the resulting clusters as shown in the Exercise. This will allow you to create a visualization using your clusters.\n",
    "10) Create a few different visualizations (e.g., scatterplots) using your clustered data. Try plotting different variables against each other to see the results in terms of the clusters.\n",
    "11) Discuss how and why the clusters make sense. If they don’t make sense, however, this is also useful insight, as it means you’ll need to explore the data further.\n",
    "12) Note down your thoughts in a markdown cell.\n",
    "13) Calculate the descriptive statistics for your clusters using the groupby() function and discuss your findings.\n",
    "14) Propose what these results could be useful for in future steps of an analytics pipeline."
   ]
  },
  {
   "cell_type": "code",
   "execution_count": 3,
   "id": "38e85a36",
   "metadata": {},
   "outputs": [],
   "source": [
    "### Create datapath to Final Project Folder - Data\n",
    "datapath = r'/Users/gabrielconfrey/Desktop/Data Analysis/Career Foundry/Achievement 6/Final Project/Data'"
   ]
  },
  {
   "cell_type": "code",
   "execution_count": 4,
   "id": "7cc615be",
   "metadata": {},
   "outputs": [],
   "source": [
    "# IMPORTING DATASET OF HOME PRICES ONLY\n",
    "df_hum = pd.read_pickle(os.path.join(datapath, '2. Cleaned', 'house_priceONLY.pkl'))"
   ]
  },
  {
   "cell_type": "code",
   "execution_count": 5,
   "id": "acd0259f",
   "metadata": {},
   "outputs": [
    {
     "data": {
      "text/html": [
       "<div>\n",
       "<style scoped>\n",
       "    .dataframe tbody tr th:only-of-type {\n",
       "        vertical-align: middle;\n",
       "    }\n",
       "\n",
       "    .dataframe tbody tr th {\n",
       "        vertical-align: top;\n",
       "    }\n",
       "\n",
       "    .dataframe thead th {\n",
       "        text-align: right;\n",
       "    }\n",
       "</style>\n",
       "<table border=\"1\" class=\"dataframe\">\n",
       "  <thead>\n",
       "    <tr style=\"text-align: right;\">\n",
       "      <th></th>\n",
       "      <th>Town</th>\n",
       "      <th>Year</th>\n",
       "      <th>Value</th>\n",
       "      <th>Type</th>\n",
       "      <th>County</th>\n",
       "      <th>Population</th>\n",
       "      <th>2011 % Homeowners</th>\n",
       "      <th>2019 # Households</th>\n",
       "      <th>2019 Median Household Income</th>\n",
       "    </tr>\n",
       "  </thead>\n",
       "  <tbody>\n",
       "    <tr>\n",
       "      <th>0</th>\n",
       "      <td>Abington</td>\n",
       "      <td>2021</td>\n",
       "      <td>500000</td>\n",
       "      <td>house_price</td>\n",
       "      <td>Plymouth</td>\n",
       "      <td>NaN</td>\n",
       "      <td>73</td>\n",
       "      <td>5798</td>\n",
       "      <td>78395</td>\n",
       "    </tr>\n",
       "    <tr>\n",
       "      <th>1</th>\n",
       "      <td>Abington</td>\n",
       "      <td>2020</td>\n",
       "      <td>432750</td>\n",
       "      <td>house_price</td>\n",
       "      <td>Plymouth</td>\n",
       "      <td>NaN</td>\n",
       "      <td>73</td>\n",
       "      <td>5798</td>\n",
       "      <td>78395</td>\n",
       "    </tr>\n",
       "    <tr>\n",
       "      <th>2</th>\n",
       "      <td>Abington</td>\n",
       "      <td>2019</td>\n",
       "      <td>385000</td>\n",
       "      <td>house_price</td>\n",
       "      <td>Plymouth</td>\n",
       "      <td>16668.0</td>\n",
       "      <td>73</td>\n",
       "      <td>5798</td>\n",
       "      <td>78395</td>\n",
       "    </tr>\n",
       "    <tr>\n",
       "      <th>3</th>\n",
       "      <td>Abington</td>\n",
       "      <td>2018</td>\n",
       "      <td>395000</td>\n",
       "      <td>house_price</td>\n",
       "      <td>Plymouth</td>\n",
       "      <td>16532.0</td>\n",
       "      <td>73</td>\n",
       "      <td>5798</td>\n",
       "      <td>78395</td>\n",
       "    </tr>\n",
       "    <tr>\n",
       "      <th>4</th>\n",
       "      <td>Abington</td>\n",
       "      <td>2016</td>\n",
       "      <td>345000</td>\n",
       "      <td>house_price</td>\n",
       "      <td>Plymouth</td>\n",
       "      <td>16335.0</td>\n",
       "      <td>73</td>\n",
       "      <td>5798</td>\n",
       "      <td>78395</td>\n",
       "    </tr>\n",
       "  </tbody>\n",
       "</table>\n",
       "</div>"
      ],
      "text/plain": [
       "       Town  Year   Value         Type    County  Population  \\\n",
       "0  Abington  2021  500000  house_price  Plymouth         NaN   \n",
       "1  Abington  2020  432750  house_price  Plymouth         NaN   \n",
       "2  Abington  2019  385000  house_price  Plymouth     16668.0   \n",
       "3  Abington  2018  395000  house_price  Plymouth     16532.0   \n",
       "4  Abington  2016  345000  house_price  Plymouth     16335.0   \n",
       "\n",
       "   2011 % Homeowners  2019 # Households  2019 Median Household Income  \n",
       "0                 73               5798                         78395  \n",
       "1                 73               5798                         78395  \n",
       "2                 73               5798                         78395  \n",
       "3                 73               5798                         78395  \n",
       "4                 73               5798                         78395  "
      ]
     },
     "execution_count": 5,
     "metadata": {},
     "output_type": "execute_result"
    }
   ],
   "source": [
    "df_hum.head()"
   ]
  },
  {
   "cell_type": "code",
   "execution_count": 6,
   "id": "6d1aa99a",
   "metadata": {},
   "outputs": [],
   "source": [
    "# DROPPING NULLS FROM POPULATION\n",
    "df_hum.dropna(subset=['Population'], inplace=True)"
   ]
  },
  {
   "cell_type": "code",
   "execution_count": 7,
   "id": "872cd8ef",
   "metadata": {},
   "outputs": [
    {
     "data": {
      "text/html": [
       "<div>\n",
       "<style scoped>\n",
       "    .dataframe tbody tr th:only-of-type {\n",
       "        vertical-align: middle;\n",
       "    }\n",
       "\n",
       "    .dataframe tbody tr th {\n",
       "        vertical-align: top;\n",
       "    }\n",
       "\n",
       "    .dataframe thead th {\n",
       "        text-align: right;\n",
       "    }\n",
       "</style>\n",
       "<table border=\"1\" class=\"dataframe\">\n",
       "  <thead>\n",
       "    <tr style=\"text-align: right;\">\n",
       "      <th></th>\n",
       "      <th>Town</th>\n",
       "      <th>Year</th>\n",
       "      <th>Value</th>\n",
       "      <th>Type</th>\n",
       "      <th>County</th>\n",
       "      <th>Population</th>\n",
       "      <th>2011 % Homeowners</th>\n",
       "      <th>2019 # Households</th>\n",
       "      <th>2019 Median Household Income</th>\n",
       "    </tr>\n",
       "  </thead>\n",
       "  <tbody>\n",
       "    <tr>\n",
       "      <th>2</th>\n",
       "      <td>Abington</td>\n",
       "      <td>2019</td>\n",
       "      <td>385000</td>\n",
       "      <td>house_price</td>\n",
       "      <td>Plymouth</td>\n",
       "      <td>16668.0</td>\n",
       "      <td>73</td>\n",
       "      <td>5798</td>\n",
       "      <td>78395</td>\n",
       "    </tr>\n",
       "    <tr>\n",
       "      <th>3</th>\n",
       "      <td>Abington</td>\n",
       "      <td>2018</td>\n",
       "      <td>395000</td>\n",
       "      <td>house_price</td>\n",
       "      <td>Plymouth</td>\n",
       "      <td>16532.0</td>\n",
       "      <td>73</td>\n",
       "      <td>5798</td>\n",
       "      <td>78395</td>\n",
       "    </tr>\n",
       "    <tr>\n",
       "      <th>4</th>\n",
       "      <td>Abington</td>\n",
       "      <td>2016</td>\n",
       "      <td>345000</td>\n",
       "      <td>house_price</td>\n",
       "      <td>Plymouth</td>\n",
       "      <td>16335.0</td>\n",
       "      <td>73</td>\n",
       "      <td>5798</td>\n",
       "      <td>78395</td>\n",
       "    </tr>\n",
       "    <tr>\n",
       "      <th>5</th>\n",
       "      <td>Abington</td>\n",
       "      <td>2015</td>\n",
       "      <td>319450</td>\n",
       "      <td>house_price</td>\n",
       "      <td>Plymouth</td>\n",
       "      <td>16266.0</td>\n",
       "      <td>73</td>\n",
       "      <td>5798</td>\n",
       "      <td>78395</td>\n",
       "    </tr>\n",
       "    <tr>\n",
       "      <th>9</th>\n",
       "      <td>Acton</td>\n",
       "      <td>2019</td>\n",
       "      <td>630000</td>\n",
       "      <td>house_price</td>\n",
       "      <td>Middlesex</td>\n",
       "      <td>23662.0</td>\n",
       "      <td>81</td>\n",
       "      <td>4150</td>\n",
       "      <td>133931</td>\n",
       "    </tr>\n",
       "  </tbody>\n",
       "</table>\n",
       "</div>"
      ],
      "text/plain": [
       "       Town  Year   Value         Type     County  Population  \\\n",
       "2  Abington  2019  385000  house_price   Plymouth     16668.0   \n",
       "3  Abington  2018  395000  house_price   Plymouth     16532.0   \n",
       "4  Abington  2016  345000  house_price   Plymouth     16335.0   \n",
       "5  Abington  2015  319450  house_price   Plymouth     16266.0   \n",
       "9     Acton  2019  630000  house_price  Middlesex     23662.0   \n",
       "\n",
       "   2011 % Homeowners  2019 # Households  2019 Median Household Income  \n",
       "2                 73               5798                         78395  \n",
       "3                 73               5798                         78395  \n",
       "4                 73               5798                         78395  \n",
       "5                 73               5798                         78395  \n",
       "9                 81               4150                        133931  "
      ]
     },
     "execution_count": 7,
     "metadata": {},
     "output_type": "execute_result"
    }
   ],
   "source": [
    "df_hum.head()"
   ]
  },
  {
   "cell_type": "code",
   "execution_count": 8,
   "id": "b3438106",
   "metadata": {},
   "outputs": [],
   "source": [
    "# Renaming to simply df\n",
    "df = df_hum"
   ]
  },
  {
   "cell_type": "code",
   "execution_count": 9,
   "id": "ac93f63f",
   "metadata": {},
   "outputs": [
    {
     "data": {
      "text/html": [
       "<div>\n",
       "<style scoped>\n",
       "    .dataframe tbody tr th:only-of-type {\n",
       "        vertical-align: middle;\n",
       "    }\n",
       "\n",
       "    .dataframe tbody tr th {\n",
       "        vertical-align: top;\n",
       "    }\n",
       "\n",
       "    .dataframe thead th {\n",
       "        text-align: right;\n",
       "    }\n",
       "</style>\n",
       "<table border=\"1\" class=\"dataframe\">\n",
       "  <thead>\n",
       "    <tr style=\"text-align: right;\">\n",
       "      <th></th>\n",
       "      <th>Town</th>\n",
       "      <th>Year</th>\n",
       "      <th>Value</th>\n",
       "      <th>Type</th>\n",
       "      <th>County</th>\n",
       "      <th>Population</th>\n",
       "      <th>2011 % Homeowners</th>\n",
       "      <th>2019 # Households</th>\n",
       "      <th>2019 Median Household Income</th>\n",
       "    </tr>\n",
       "  </thead>\n",
       "  <tbody>\n",
       "    <tr>\n",
       "      <th>2</th>\n",
       "      <td>Abington</td>\n",
       "      <td>2019</td>\n",
       "      <td>385000</td>\n",
       "      <td>house_price</td>\n",
       "      <td>Plymouth</td>\n",
       "      <td>16668.0</td>\n",
       "      <td>73</td>\n",
       "      <td>5798</td>\n",
       "      <td>78395</td>\n",
       "    </tr>\n",
       "    <tr>\n",
       "      <th>3</th>\n",
       "      <td>Abington</td>\n",
       "      <td>2018</td>\n",
       "      <td>395000</td>\n",
       "      <td>house_price</td>\n",
       "      <td>Plymouth</td>\n",
       "      <td>16532.0</td>\n",
       "      <td>73</td>\n",
       "      <td>5798</td>\n",
       "      <td>78395</td>\n",
       "    </tr>\n",
       "    <tr>\n",
       "      <th>4</th>\n",
       "      <td>Abington</td>\n",
       "      <td>2016</td>\n",
       "      <td>345000</td>\n",
       "      <td>house_price</td>\n",
       "      <td>Plymouth</td>\n",
       "      <td>16335.0</td>\n",
       "      <td>73</td>\n",
       "      <td>5798</td>\n",
       "      <td>78395</td>\n",
       "    </tr>\n",
       "    <tr>\n",
       "      <th>5</th>\n",
       "      <td>Abington</td>\n",
       "      <td>2015</td>\n",
       "      <td>319450</td>\n",
       "      <td>house_price</td>\n",
       "      <td>Plymouth</td>\n",
       "      <td>16266.0</td>\n",
       "      <td>73</td>\n",
       "      <td>5798</td>\n",
       "      <td>78395</td>\n",
       "    </tr>\n",
       "    <tr>\n",
       "      <th>9</th>\n",
       "      <td>Acton</td>\n",
       "      <td>2019</td>\n",
       "      <td>630000</td>\n",
       "      <td>house_price</td>\n",
       "      <td>Middlesex</td>\n",
       "      <td>23662.0</td>\n",
       "      <td>81</td>\n",
       "      <td>4150</td>\n",
       "      <td>133931</td>\n",
       "    </tr>\n",
       "  </tbody>\n",
       "</table>\n",
       "</div>"
      ],
      "text/plain": [
       "       Town  Year   Value         Type     County  Population  \\\n",
       "2  Abington  2019  385000  house_price   Plymouth     16668.0   \n",
       "3  Abington  2018  395000  house_price   Plymouth     16532.0   \n",
       "4  Abington  2016  345000  house_price   Plymouth     16335.0   \n",
       "5  Abington  2015  319450  house_price   Plymouth     16266.0   \n",
       "9     Acton  2019  630000  house_price  Middlesex     23662.0   \n",
       "\n",
       "   2011 % Homeowners  2019 # Households  2019 Median Household Income  \n",
       "2                 73               5798                         78395  \n",
       "3                 73               5798                         78395  \n",
       "4                 73               5798                         78395  \n",
       "5                 73               5798                         78395  \n",
       "9                 81               4150                        133931  "
      ]
     },
     "execution_count": 9,
     "metadata": {},
     "output_type": "execute_result"
    }
   ],
   "source": [
    "df.head()"
   ]
  },
  {
   "cell_type": "code",
   "execution_count": 10,
   "id": "3f161512",
   "metadata": {},
   "outputs": [],
   "source": [
    "# REMOVING CATEGORICAL COLUMNS FOR K-MEANS TESTING\n",
    "## Syntax: df.drop(columns = ['colA','colB'], inplace = True)\n",
    "### Syntax for choosing year\n",
    "#### df_2021 = df.loc[(df['Year'] == 2021) & (df['Type'] == \"house_price\")]\n",
    "# First, only 2019 data:\n",
    "df_2019 = df.loc[(df['Year'] == 2019)]"
   ]
  },
  {
   "cell_type": "code",
   "execution_count": 11,
   "id": "64b1f9cf",
   "metadata": {},
   "outputs": [
    {
     "data": {
      "text/plain": [
       "Year\n",
       "2019    133\n",
       "Name: count, dtype: int64"
      ]
     },
     "execution_count": 11,
     "metadata": {},
     "output_type": "execute_result"
    }
   ],
   "source": [
    "df_2019['Year'].value_counts()"
   ]
  },
  {
   "cell_type": "code",
   "execution_count": 12,
   "id": "6d749e1e",
   "metadata": {},
   "outputs": [
    {
     "name": "stderr",
     "output_type": "stream",
     "text": [
      "/var/folders/t0/2pp7bcps729654l63mn9fmhh0000gn/T/ipykernel_47604/3012987921.py:2: SettingWithCopyWarning: \n",
      "A value is trying to be set on a copy of a slice from a DataFrame\n",
      "\n",
      "See the caveats in the documentation: https://pandas.pydata.org/pandas-docs/stable/user_guide/indexing.html#returning-a-view-versus-a-copy\n",
      "  df_2019.drop(columns = ['Town','Year','Type','County'], inplace = True)\n"
     ]
    }
   ],
   "source": [
    "# Removing categorical data from df_2019\n",
    "df_2019.drop(columns = ['Town','Year','Type','County'], inplace = True)"
   ]
  },
  {
   "cell_type": "code",
   "execution_count": 13,
   "id": "91c7dea1",
   "metadata": {},
   "outputs": [
    {
     "data": {
      "text/html": [
       "<div>\n",
       "<style scoped>\n",
       "    .dataframe tbody tr th:only-of-type {\n",
       "        vertical-align: middle;\n",
       "    }\n",
       "\n",
       "    .dataframe tbody tr th {\n",
       "        vertical-align: top;\n",
       "    }\n",
       "\n",
       "    .dataframe thead th {\n",
       "        text-align: right;\n",
       "    }\n",
       "</style>\n",
       "<table border=\"1\" class=\"dataframe\">\n",
       "  <thead>\n",
       "    <tr style=\"text-align: right;\">\n",
       "      <th></th>\n",
       "      <th>Value</th>\n",
       "      <th>Population</th>\n",
       "      <th>2011 % Homeowners</th>\n",
       "      <th>2019 # Households</th>\n",
       "      <th>2019 Median Household Income</th>\n",
       "    </tr>\n",
       "  </thead>\n",
       "  <tbody>\n",
       "    <tr>\n",
       "      <th>2</th>\n",
       "      <td>385000</td>\n",
       "      <td>16668.0</td>\n",
       "      <td>73</td>\n",
       "      <td>5798</td>\n",
       "      <td>78395</td>\n",
       "    </tr>\n",
       "    <tr>\n",
       "      <th>9</th>\n",
       "      <td>630000</td>\n",
       "      <td>23662.0</td>\n",
       "      <td>81</td>\n",
       "      <td>4150</td>\n",
       "      <td>133931</td>\n",
       "    </tr>\n",
       "    <tr>\n",
       "      <th>16</th>\n",
       "      <td>675000</td>\n",
       "      <td>36356.0</td>\n",
       "      <td>81</td>\n",
       "      <td>24877</td>\n",
       "      <td>115567</td>\n",
       "    </tr>\n",
       "    <tr>\n",
       "      <th>23</th>\n",
       "      <td>820000</td>\n",
       "      <td>45531.0</td>\n",
       "      <td>62</td>\n",
       "      <td>20459</td>\n",
       "      <td>111652</td>\n",
       "    </tr>\n",
       "    <tr>\n",
       "      <th>30</th>\n",
       "      <td>294000</td>\n",
       "      <td>3219.0</td>\n",
       "      <td>97</td>\n",
       "      <td>1072</td>\n",
       "      <td>82778</td>\n",
       "    </tr>\n",
       "  </tbody>\n",
       "</table>\n",
       "</div>"
      ],
      "text/plain": [
       "     Value  Population  2011 % Homeowners  2019 # Households  \\\n",
       "2   385000     16668.0                 73               5798   \n",
       "9   630000     23662.0                 81               4150   \n",
       "16  675000     36356.0                 81              24877   \n",
       "23  820000     45531.0                 62              20459   \n",
       "30  294000      3219.0                 97               1072   \n",
       "\n",
       "    2019 Median Household Income  \n",
       "2                          78395  \n",
       "9                         133931  \n",
       "16                        115567  \n",
       "23                        111652  \n",
       "30                         82778  "
      ]
     },
     "execution_count": 13,
     "metadata": {},
     "output_type": "execute_result"
    }
   ],
   "source": [
    "df_2019.head()"
   ]
  },
  {
   "cell_type": "markdown",
   "id": "c1bb546b",
   "metadata": {},
   "source": [
    "### Also recall that the difference between your variables’ scales can’t be too large or your results will be biased. Make sure you standardize your data first."
   ]
  },
  {
   "cell_type": "code",
   "execution_count": 14,
   "id": "9d749046",
   "metadata": {},
   "outputs": [],
   "source": [
    "num_cl = range(1, 10) # Defines the range of potential clusters in the data.\n",
    "kmeans = [KMeans(n_clusters=i) for i in num_cl] # Defines k-means clusters in the range assigned above."
   ]
  },
  {
   "cell_type": "code",
   "execution_count": 15,
   "id": "00d4f0ce",
   "metadata": {},
   "outputs": [
    {
     "name": "stderr",
     "output_type": "stream",
     "text": [
      "/Users/gabrielconfrey/anaconda3/lib/python3.11/site-packages/sklearn/cluster/_kmeans.py:1412: FutureWarning: The default value of `n_init` will change from 10 to 'auto' in 1.4. Set the value of `n_init` explicitly to suppress the warning\n",
      "  super()._check_params_vs_input(X, default_n_init=10)\n",
      "/Users/gabrielconfrey/anaconda3/lib/python3.11/site-packages/sklearn/cluster/_kmeans.py:1412: FutureWarning: The default value of `n_init` will change from 10 to 'auto' in 1.4. Set the value of `n_init` explicitly to suppress the warning\n",
      "  super()._check_params_vs_input(X, default_n_init=10)\n",
      "/Users/gabrielconfrey/anaconda3/lib/python3.11/site-packages/sklearn/cluster/_kmeans.py:1412: FutureWarning: The default value of `n_init` will change from 10 to 'auto' in 1.4. Set the value of `n_init` explicitly to suppress the warning\n",
      "  super()._check_params_vs_input(X, default_n_init=10)\n",
      "/Users/gabrielconfrey/anaconda3/lib/python3.11/site-packages/sklearn/cluster/_kmeans.py:1412: FutureWarning: The default value of `n_init` will change from 10 to 'auto' in 1.4. Set the value of `n_init` explicitly to suppress the warning\n",
      "  super()._check_params_vs_input(X, default_n_init=10)\n",
      "/Users/gabrielconfrey/anaconda3/lib/python3.11/site-packages/sklearn/cluster/_kmeans.py:1412: FutureWarning: The default value of `n_init` will change from 10 to 'auto' in 1.4. Set the value of `n_init` explicitly to suppress the warning\n",
      "  super()._check_params_vs_input(X, default_n_init=10)\n",
      "/Users/gabrielconfrey/anaconda3/lib/python3.11/site-packages/sklearn/cluster/_kmeans.py:1412: FutureWarning: The default value of `n_init` will change from 10 to 'auto' in 1.4. Set the value of `n_init` explicitly to suppress the warning\n",
      "  super()._check_params_vs_input(X, default_n_init=10)\n",
      "/Users/gabrielconfrey/anaconda3/lib/python3.11/site-packages/sklearn/cluster/_kmeans.py:1412: FutureWarning: The default value of `n_init` will change from 10 to 'auto' in 1.4. Set the value of `n_init` explicitly to suppress the warning\n",
      "  super()._check_params_vs_input(X, default_n_init=10)\n",
      "/Users/gabrielconfrey/anaconda3/lib/python3.11/site-packages/sklearn/cluster/_kmeans.py:1412: FutureWarning: The default value of `n_init` will change from 10 to 'auto' in 1.4. Set the value of `n_init` explicitly to suppress the warning\n",
      "  super()._check_params_vs_input(X, default_n_init=10)\n",
      "/Users/gabrielconfrey/anaconda3/lib/python3.11/site-packages/sklearn/cluster/_kmeans.py:1412: FutureWarning: The default value of `n_init` will change from 10 to 'auto' in 1.4. Set the value of `n_init` explicitly to suppress the warning\n",
      "  super()._check_params_vs_input(X, default_n_init=10)\n"
     ]
    },
    {
     "data": {
      "text/plain": [
       "[-10075600062906.766,\n",
       " -3600041428341.386,\n",
       " -1910062086135.7876,\n",
       " -1407774075982.7756,\n",
       " -984211838117.3757,\n",
       " -614804490635.6902,\n",
       " -458360692773.30225,\n",
       " -350614223557.7499,\n",
       " -293549505492.48376]"
      ]
     },
     "execution_count": 15,
     "metadata": {},
     "output_type": "execute_result"
    }
   ],
   "source": [
    "score = [kmeans[i].fit(df_2019).score(df_2019) for i in range(len(kmeans))] # Creates a score that represents \n",
    "# a rate of variation for the given cluster option.\n",
    "\n",
    "score"
   ]
  },
  {
   "cell_type": "code",
   "execution_count": 16,
   "id": "e53097a2",
   "metadata": {},
   "outputs": [
    {
     "data": {
      "image/png": "[encoded data removed]",
      "text/plain": [
       "<Figure size 640x480 with 1 Axes>"
      ]
     },
     "metadata": {},
     "output_type": "display_data"
    }
   ],
   "source": [
    "# Plot the elbow curve using PyLab.\n",
    "\n",
    "pl.plot(num_cl,score)\n",
    "pl.xlabel('Number of Clusters')\n",
    "pl.ylabel('Score')\n",
    "pl.title('Elbow Curve')\n",
    "pl.show()"
   ]
  },
  {
   "cell_type": "markdown",
   "id": "173cce51",
   "metadata": {},
   "source": [
    "### IDEAL NUMBER OF CLUSTERS IS 3"
   ]
  },
  {
   "cell_type": "markdown",
   "id": "d9215040",
   "metadata": {},
   "source": [
    "6) Make an informed decision about the number of clusters you’ll use in your k-means algorithm based on the chart.\n",
    "7) Explain why you chose that number in a markdown cell.\n",
    "8) Run the k-means algorithm.\n",
    "9) Attach a new column to your dataframe with the resulting clusters as shown in the Exercise. This will allow you to create a visualization using your clusters.\n",
    "10) Create a few different visualizations (e.g., scatterplots) using your clustered data. Try plotting different variables against each other to see the results in terms of the clusters.\n",
    "11) Discuss how and why the clusters make sense. If they don’t make sense, however, this is also useful insight, as it means you’ll need to explore the data further.\n",
    "12) Note down your thoughts in a markdown cell.\n",
    "13) Calculate the descriptive statistics for your clusters using the groupby() function and discuss your findings.\n",
    "14) Propose what these results could be useful for in future steps of an analytics pipeline."
   ]
  },
  {
   "cell_type": "markdown",
   "id": "03bfff85",
   "metadata": {},
   "source": [
    "### 3 is the ideal number of clusters because it is at the elbow of the graph above, before the line flattens significantly."
   ]
  },
  {
   "cell_type": "code",
   "execution_count": 17,
   "id": "f568237e",
   "metadata": {},
   "outputs": [],
   "source": [
    "# Create the k-means object.\n",
    "\n",
    "kmeans = KMeans(n_clusters = 3) "
   ]
  },
  {
   "cell_type": "code",
   "execution_count": 18,
   "id": "dfc5aaaf",
   "metadata": {},
   "outputs": [
    {
     "name": "stderr",
     "output_type": "stream",
     "text": [
      "/Users/gabrielconfrey/anaconda3/lib/python3.11/site-packages/sklearn/cluster/_kmeans.py:1412: FutureWarning: The default value of `n_init` will change from 10 to 'auto' in 1.4. Set the value of `n_init` explicitly to suppress the warning\n",
      "  super()._check_params_vs_input(X, default_n_init=10)\n"
     ]
    },
    {
     "data": {
      "text/html": [
       "<style>#sk-container-id-1 {color: black;}#sk-container-id-1 pre{padding: 0;}#sk-container-id-1 div.sk-toggleable {background-color: white;}#sk-container-id-1 label.sk-toggleable__label {cursor: pointer;display: block;width: 100%;margin-bottom: 0;padding: 0.3em;box-sizing: border-box;text-align: center;}#sk-container-id-1 label.sk-toggleable__label-arrow:before {content: \"▸\";float: left;margin-right: 0.25em;color: #696969;}#sk-container-id-1 label.sk-toggleable__label-arrow:hover:before {color: black;}#sk-container-id-1 div.sk-estimator:hover label.sk-toggleable__label-arrow:before {color: black;}#sk-container-id-1 div.sk-toggleable__content {max-height: 0;max-width: 0;overflow: hidden;text-align: left;background-color: #f0f8ff;}#sk-container-id-1 div.sk-toggleable__content pre {margin: 0.2em;color: black;border-radius: 0.25em;background-color: #f0f8ff;}#sk-container-id-1 input.sk-toggleable__control:checked~div.sk-toggleable__content {max-height: 200px;max-width: 100%;overflow: auto;}#sk-container-id-1 input.sk-toggleable__control:checked~label.sk-toggleable__label-arrow:before {content: \"▾\";}#sk-container-id-1 div.sk-estimator input.sk-toggleable__control:checked~label.sk-toggleable__label {background-color: #d4ebff;}#sk-container-id-1 div.sk-label input.sk-toggleable__control:checked~label.sk-toggleable__label {background-color: #d4ebff;}#sk-container-id-1 input.sk-hidden--visually {border: 0;clip: rect(1px 1px 1px 1px);clip: rect(1px, 1px, 1px, 1px);height: 1px;margin: -1px;overflow: hidden;padding: 0;position: absolute;width: 1px;}#sk-container-id-1 div.sk-estimator {font-family: monospace;background-color: #f0f8ff;border: 1px dotted black;border-radius: 0.25em;box-sizing: border-box;margin-bottom: 0.5em;}#sk-container-id-1 div.sk-estimator:hover {background-color: #d4ebff;}#sk-container-id-1 div.sk-parallel-item::after {content: \"\";width: 100%;border-bottom: 1px solid gray;flex-grow: 1;}#sk-container-id-1 div.sk-label:hover label.sk-toggleable__label {background-color: #d4ebff;}#sk-container-id-1 div.sk-serial::before {content: \"\";position: absolute;border-left: 1px solid gray;box-sizing: border-box;top: 0;bottom: 0;left: 50%;z-index: 0;}#sk-container-id-1 div.sk-serial {display: flex;flex-direction: column;align-items: center;background-color: white;padding-right: 0.2em;padding-left: 0.2em;position: relative;}#sk-container-id-1 div.sk-item {position: relative;z-index: 1;}#sk-container-id-1 div.sk-parallel {display: flex;align-items: stretch;justify-content: center;background-color: white;position: relative;}#sk-container-id-1 div.sk-item::before, #sk-container-id-1 div.sk-parallel-item::before {content: \"\";position: absolute;border-left: 1px solid gray;box-sizing: border-box;top: 0;bottom: 0;left: 50%;z-index: -1;}#sk-container-id-1 div.sk-parallel-item {display: flex;flex-direction: column;z-index: 1;position: relative;background-color: white;}#sk-container-id-1 div.sk-parallel-item:first-child::after {align-self: flex-end;width: 50%;}#sk-container-id-1 div.sk-parallel-item:last-child::after {align-self: flex-start;width: 50%;}#sk-container-id-1 div.sk-parallel-item:only-child::after {width: 0;}#sk-container-id-1 div.sk-dashed-wrapped {border: 1px dashed gray;margin: 0 0.4em 0.5em 0.4em;box-sizing: border-box;padding-bottom: 0.4em;background-color: white;}#sk-container-id-1 div.sk-label label {font-family: monospace;font-weight: bold;display: inline-block;line-height: 1.2em;}#sk-container-id-1 div.sk-label-container {text-align: center;}#sk-container-id-1 div.sk-container {/* jupyter's `normalize.less` sets `[hidden] { display: none; }` but bootstrap.min.css set `[hidden] { display: none !important; }` so we also need the `!important` here to be able to override the default hidden behavior on the sphinx rendered scikit-learn.org. See: https://github.com/scikit-learn/scikit-learn/issues/21755 */display: inline-block !important;position: relative;}#sk-container-id-1 div.sk-text-repr-fallback {display: none;}</style><div id=\"sk-container-id-1\" class=\"sk-top-container\"><div class=\"sk-text-repr-fallback\"><pre>KMeans(n_clusters=3)</pre><b>In a Jupyter environment, please rerun this cell to show the HTML representation or trust the notebook. <br />On GitHub, the HTML representation is unable to render, please try loading this page with nbviewer.org.</b></div><div class=\"sk-container\" hidden><div class=\"sk-item\"><div class=\"sk-estimator sk-toggleable\"><input class=\"sk-toggleable__control sk-hidden--visually\" id=\"sk-estimator-id-1\" type=\"checkbox\" checked><label for=\"sk-estimator-id-1\" class=\"sk-toggleable__label sk-toggleable__label-arrow\">KMeans</label><div class=\"sk-toggleable__content\"><pre>KMeans(n_clusters=3)</pre></div></div></div></div></div>"
      ],
      "text/plain": [
       "KMeans(n_clusters=3)"
      ]
     },
     "execution_count": 18,
     "metadata": {},
     "output_type": "execute_result"
    }
   ],
   "source": [
    "# Fit the k-means object to the data.\n",
    "\n",
    "kmeans.fit(df_2019)"
   ]
  },
  {
   "cell_type": "code",
   "execution_count": 19,
   "id": "3df1015b",
   "metadata": {},
   "outputs": [
    {
     "name": "stderr",
     "output_type": "stream",
     "text": [
      "/Users/gabrielconfrey/anaconda3/lib/python3.11/site-packages/sklearn/cluster/_kmeans.py:1412: FutureWarning: The default value of `n_init` will change from 10 to 'auto' in 1.4. Set the value of `n_init` explicitly to suppress the warning\n",
      "  super()._check_params_vs_input(X, default_n_init=10)\n",
      "/var/folders/t0/2pp7bcps729654l63mn9fmhh0000gn/T/ipykernel_47604/695199995.py:1: SettingWithCopyWarning: \n",
      "A value is trying to be set on a copy of a slice from a DataFrame.\n",
      "Try using .loc[row_indexer,col_indexer] = value instead\n",
      "\n",
      "See the caveats in the documentation: https://pandas.pydata.org/pandas-docs/stable/user_guide/indexing.html#returning-a-view-versus-a-copy\n",
      "  df_2019['clusters'] = kmeans.fit_predict(df_2019)\n"
     ]
    }
   ],
   "source": [
    "df_2019['clusters'] = kmeans.fit_predict(df_2019)"
   ]
  },
  {
   "cell_type": "code",
   "execution_count": 20,
   "id": "b3070ae5",
   "metadata": {},
   "outputs": [
    {
     "data": {
      "text/html": [
       "<div>\n",
       "<style scoped>\n",
       "    .dataframe tbody tr th:only-of-type {\n",
       "        vertical-align: middle;\n",
       "    }\n",
       "\n",
       "    .dataframe tbody tr th {\n",
       "        vertical-align: top;\n",
       "    }\n",
       "\n",
       "    .dataframe thead th {\n",
       "        text-align: right;\n",
       "    }\n",
       "</style>\n",
       "<table border=\"1\" class=\"dataframe\">\n",
       "  <thead>\n",
       "    <tr style=\"text-align: right;\">\n",
       "      <th></th>\n",
       "      <th>Value</th>\n",
       "      <th>Population</th>\n",
       "      <th>2011 % Homeowners</th>\n",
       "      <th>2019 # Households</th>\n",
       "      <th>2019 Median Household Income</th>\n",
       "      <th>clusters</th>\n",
       "    </tr>\n",
       "  </thead>\n",
       "  <tbody>\n",
       "    <tr>\n",
       "      <th>2</th>\n",
       "      <td>385000</td>\n",
       "      <td>16668.0</td>\n",
       "      <td>73</td>\n",
       "      <td>5798</td>\n",
       "      <td>78395</td>\n",
       "      <td>0</td>\n",
       "    </tr>\n",
       "    <tr>\n",
       "      <th>9</th>\n",
       "      <td>630000</td>\n",
       "      <td>23662.0</td>\n",
       "      <td>81</td>\n",
       "      <td>4150</td>\n",
       "      <td>133931</td>\n",
       "      <td>2</td>\n",
       "    </tr>\n",
       "    <tr>\n",
       "      <th>16</th>\n",
       "      <td>675000</td>\n",
       "      <td>36356.0</td>\n",
       "      <td>81</td>\n",
       "      <td>24877</td>\n",
       "      <td>115567</td>\n",
       "      <td>2</td>\n",
       "    </tr>\n",
       "    <tr>\n",
       "      <th>23</th>\n",
       "      <td>820000</td>\n",
       "      <td>45531.0</td>\n",
       "      <td>62</td>\n",
       "      <td>20459</td>\n",
       "      <td>111652</td>\n",
       "      <td>2</td>\n",
       "    </tr>\n",
       "    <tr>\n",
       "      <th>30</th>\n",
       "      <td>294000</td>\n",
       "      <td>3219.0</td>\n",
       "      <td>97</td>\n",
       "      <td>1072</td>\n",
       "      <td>82778</td>\n",
       "      <td>0</td>\n",
       "    </tr>\n",
       "  </tbody>\n",
       "</table>\n",
       "</div>"
      ],
      "text/plain": [
       "     Value  Population  2011 % Homeowners  2019 # Households  \\\n",
       "2   385000     16668.0                 73               5798   \n",
       "9   630000     23662.0                 81               4150   \n",
       "16  675000     36356.0                 81              24877   \n",
       "23  820000     45531.0                 62              20459   \n",
       "30  294000      3219.0                 97               1072   \n",
       "\n",
       "    2019 Median Household Income  clusters  \n",
       "2                          78395         0  \n",
       "9                         133931         2  \n",
       "16                        115567         2  \n",
       "23                        111652         2  \n",
       "30                         82778         0  "
      ]
     },
     "execution_count": 20,
     "metadata": {},
     "output_type": "execute_result"
    }
   ],
   "source": [
    "df_2019.head()"
   ]
  },
  {
   "cell_type": "code",
   "execution_count": 21,
   "id": "1d52a0b9-7e99-4136-abb9-720a7e2d61e2",
   "metadata": {},
   "outputs": [],
   "source": [
    "### Exporting dataset with clusters\n",
    "df_2019.to_csv(os.path.join(datapath, '2. Cleaned', 'clusters2019.csv'))"
   ]
  },
  {
   "cell_type": "markdown",
   "id": "24eccc29",
   "metadata": {},
   "source": [
    "10) Create a few different visualizations (e.g., scatterplots) using your clustered data. Try plotting different variables against each other to see the results in terms of the clusters.\n",
    "11) Discuss how and why the clusters make sense. If they don’t make sense, however, this is also useful insight, as it means you’ll need to explore the data further.\n",
    "12) Note down your thoughts in a markdown cell.\n",
    "13) Calculate the descriptive statistics for your clusters using the groupby() function and discuss your findings.\n",
    "14) Propose what these results could be useful for in future steps of an analytics pipeline."
   ]
  },
  {
   "cell_type": "code",
   "execution_count": 22,
   "id": "3bde70f7",
   "metadata": {},
   "outputs": [],
   "source": [
    "# REMOVING THE POPULATION OUTLIERS, AS I DID IN THE LAST TASK\n",
    "df_2019sm = df_2019[df_2019['Population'] < 200000]"
   ]
  },
  {
   "cell_type": "code",
   "execution_count": 23,
   "id": "24a4f6c6",
   "metadata": {},
   "outputs": [
    {
     "data": {
      "text/plain": [
       "110997.0"
      ]
     },
     "execution_count": 23,
     "metadata": {},
     "output_type": "execute_result"
    }
   ],
   "source": [
    "df_2019sm['Population'].max()"
   ]
  },
  {
   "cell_type": "markdown",
   "id": "b4b29a3c",
   "metadata": {},
   "source": [
    "### I want to compare\n",
    "1) Population and % Homeowners\n",
    "2) Population and Household Income\n",
    "3) Homeowners and Household Income"
   ]
  },
  {
   "cell_type": "code",
   "execution_count": 24,
   "id": "2dfaa8c8",
   "metadata": {},
   "outputs": [
    {
     "data": {
      "image/png": "[encoded data removed]",
      "text/plain": [
       "<Figure size 1200x800 with 1 Axes>"
      ]
     },
     "metadata": {},
     "output_type": "display_data"
    }
   ],
   "source": [
    "plt.figure(figsize=(12,8))\n",
    "ax = sns.scatterplot(x=df_2019['Population'], y=df_2019['2011 % Homeowners'], hue=kmeans.labels_, s=100) \n",
    "# Here, you're subsetting `X` for the x and y arguments to avoid using their labels. \n",
    "# `hue` takes the value of the attribute `kmeans.labels_`, which is the result of running the k-means algorithm.\n",
    "# `s` represents the size of the points you want to see in the plot.\n",
    "\n",
    "ax.grid(False) # This removes the grid from the background.\n",
    "plt.xlabel('Population') # Label x-axis.\n",
    "plt.ylabel('Homeownership') # Label y-axis.\n",
    "plt.show()"
   ]
  },
  {
   "cell_type": "markdown",
   "id": "aa6cfbc2",
   "metadata": {},
   "source": [
    "### This clustering doesn't offer much insight, as all three clusters map each other fairly closely."
   ]
  },
  {
   "cell_type": "code",
   "execution_count": 25,
   "id": "4d0a42e1",
   "metadata": {},
   "outputs": [
    {
     "data": {
      "image/png": "[encoded data removed]",
      "text/plain": [
       "<Figure size 1200x800 with 1 Axes>"
      ]
     },
     "metadata": {},
     "output_type": "display_data"
    }
   ],
   "source": [
    "plt.figure(figsize=(12,8))\n",
    "ax = sns.scatterplot(x=df_2019['Population'], y=df_2019['2019 Median Household Income'], hue=kmeans.labels_, s=100) \n",
    "# Here, you're subsetting `X` for the x and y arguments to avoid using their labels. \n",
    "# `hue` takes the value of the attribute `kmeans.labels_`, which is the result of running the k-means algorithm.\n",
    "# `s` represents the size of the points you want to see in the plot.\n",
    "\n",
    "ax.grid(False) # This removes the grid from the background.\n",
    "plt.xlabel('Population') # Label x-axis.\n",
    "plt.ylabel('Income') # Label y-axis.\n",
    "plt.show()"
   ]
  },
  {
   "cell_type": "markdown",
   "id": "9066eae6",
   "metadata": {},
   "source": [
    "### This cluster begins to offer some insight. C0 have high income and populations < 100k. These could be labeled \"exclusive communities\". C2 is mostly mid-upper income, and spans the same community size, in addition to the outlier. This could be \"middle class urban/suburban\". C1 has the lowest avg income, also under 100k. This could be \"lower class suburban\"."
   ]
  },
  {
   "cell_type": "code",
   "execution_count": 26,
   "id": "035051ae",
   "metadata": {},
   "outputs": [
    {
     "data": {
      "image/png": "[encoded data removed]",
      "text/plain": [
       "<Figure size 1200x800 with 1 Axes>"
      ]
     },
     "metadata": {},
     "output_type": "display_data"
    }
   ],
   "source": [
    "plt.figure(figsize=(12,8))\n",
    "ax = sns.scatterplot(x=df_2019['2019 Median Household Income'], y=df_2019['2011 % Homeowners'], hue=kmeans.labels_, s=100) \n",
    "# Here, you're subsetting `X` for the x and y arguments to avoid using their labels. \n",
    "# `hue` takes the value of the attribute `kmeans.labels_`, which is the result of running the k-means algorithm.\n",
    "# `s` represents the size of the points you want to see in the plot.\n",
    "\n",
    "ax.grid(False) # This removes the grid from the background.\n",
    "plt.xlabel('Income') # Label x-axis.\n",
    "plt.ylabel('Homeownership') # Label y-axis.\n",
    "plt.show()"
   ]
  },
  {
   "cell_type": "markdown",
   "id": "a4750c3c",
   "metadata": {},
   "source": [
    "### This cluster in concert with the 2nd on income and population paints the picture. If C0 is exclusive communities, C2 is middle class and C1 is lower class, we would expect homeownership to vary across those clusters accordingly, and they do!\n",
    "\n",
    "### C0 has high income and doesn't dip below 50% ownership. C2 is concentrated in high ownership above 70% (suburbs), but middling to low income. C1 seems to have the lowest avg % ownership, while certainly have the lowest income."
   ]
  },
  {
   "cell_type": "code",
   "execution_count": 27,
   "id": "b5e664b0",
   "metadata": {},
   "outputs": [
    {
     "data": {
      "text/plain": [
       "clusters\n",
       "0    72\n",
       "2    50\n",
       "1    11\n",
       "Name: count, dtype: int64"
      ]
     },
     "execution_count": 27,
     "metadata": {},
     "output_type": "execute_result"
    }
   ],
   "source": [
    "df_2019['clusters'].value_counts()"
   ]
  },
  {
   "cell_type": "markdown",
   "id": "6f91497b",
   "metadata": {},
   "source": [
    "### Renaming clusters for these 'class' designations."
   ]
  },
  {
   "cell_type": "code",
   "execution_count": 28,
   "id": "bfb5321f",
   "metadata": {},
   "outputs": [
    {
     "name": "stderr",
     "output_type": "stream",
     "text": [
      "/var/folders/t0/2pp7bcps729654l63mn9fmhh0000gn/T/ipykernel_47604/1810363597.py:1: SettingWithCopyWarning: \n",
      "A value is trying to be set on a copy of a slice from a DataFrame.\n",
      "Try using .loc[row_indexer,col_indexer] = value instead\n",
      "\n",
      "See the caveats in the documentation: https://pandas.pydata.org/pandas-docs/stable/user_guide/indexing.html#returning-a-view-versus-a-copy\n",
      "  df_2019.loc[df_2019['clusters'] == 2, 'cluster'] = 'Middle class'\n"
     ]
    }
   ],
   "source": [
    "df_2019.loc[df_2019['clusters'] == 2, 'cluster'] = 'Middle class'\n",
    "df_2019.loc[df_2019['clusters'] == 1, 'cluster'] = 'Lower class'\n",
    "df_2019.loc[df_2019['clusters'] == 0, 'cluster'] = 'Upper class'"
   ]
  },
  {
   "cell_type": "code",
   "execution_count": 29,
   "id": "006d88a3",
   "metadata": {},
   "outputs": [
    {
     "data": {
      "text/plain": [
       "cluster\n",
       "Upper class     72\n",
       "Middle class    50\n",
       "Lower class     11\n",
       "Name: count, dtype: int64"
      ]
     },
     "execution_count": 29,
     "metadata": {},
     "output_type": "execute_result"
    }
   ],
   "source": [
    "df_2019['cluster'].value_counts()"
   ]
  },
  {
   "cell_type": "markdown",
   "id": "c6cc0995",
   "metadata": {},
   "source": [
    "13) Calculate the descriptive statistics for your clusters using the groupby() function and discuss your findings.\n",
    "14) Propose what these results could be useful for in future steps of an analytics pipeline."
   ]
  },
  {
   "cell_type": "code",
   "execution_count": 30,
   "id": "86dbf4d1",
   "metadata": {},
   "outputs": [
    {
     "data": {
      "text/plain": [
       "Index(['Value', 'Population', '2011 % Homeowners', '2019 # Households',\n",
       "       '2019 Median Household Income', 'clusters', 'cluster'],\n",
       "      dtype='object')"
      ]
     },
     "execution_count": 30,
     "metadata": {},
     "output_type": "execute_result"
    }
   ],
   "source": [
    "df_2019.columns"
   ]
  },
  {
   "cell_type": "code",
   "execution_count": 31,
   "id": "fb57f443",
   "metadata": {},
   "outputs": [
    {
     "data": {
      "text/html": [
       "<div>\n",
       "<style scoped>\n",
       "    .dataframe tbody tr th:only-of-type {\n",
       "        vertical-align: middle;\n",
       "    }\n",
       "\n",
       "    .dataframe tbody tr th {\n",
       "        vertical-align: top;\n",
       "    }\n",
       "\n",
       "    .dataframe thead tr th {\n",
       "        text-align: left;\n",
       "    }\n",
       "\n",
       "    .dataframe thead tr:last-of-type th {\n",
       "        text-align: right;\n",
       "    }\n",
       "</style>\n",
       "<table border=\"1\" class=\"dataframe\">\n",
       "  <thead>\n",
       "    <tr>\n",
       "      <th></th>\n",
       "      <th colspan=\"2\" halign=\"left\">Population</th>\n",
       "      <th colspan=\"2\" halign=\"left\">2011 % Homeowners</th>\n",
       "      <th colspan=\"2\" halign=\"left\">2019 Median Household Income</th>\n",
       "    </tr>\n",
       "    <tr>\n",
       "      <th></th>\n",
       "      <th>mean</th>\n",
       "      <th>median</th>\n",
       "      <th>mean</th>\n",
       "      <th>median</th>\n",
       "      <th>mean</th>\n",
       "      <th>median</th>\n",
       "    </tr>\n",
       "    <tr>\n",
       "      <th>cluster</th>\n",
       "      <th></th>\n",
       "      <th></th>\n",
       "      <th></th>\n",
       "      <th></th>\n",
       "      <th></th>\n",
       "      <th></th>\n",
       "    </tr>\n",
       "  </thead>\n",
       "  <tbody>\n",
       "    <tr>\n",
       "      <th>Lower class</th>\n",
       "      <td>30351.000000</td>\n",
       "      <td>26116.0</td>\n",
       "      <td>76.727273</td>\n",
       "      <td>82.0</td>\n",
       "      <td>149172.363636</td>\n",
       "      <td>127753.0</td>\n",
       "    </tr>\n",
       "    <tr>\n",
       "      <th>Middle class</th>\n",
       "      <td>33323.340000</td>\n",
       "      <td>16160.5</td>\n",
       "      <td>81.320000</td>\n",
       "      <td>85.0</td>\n",
       "      <td>104269.840000</td>\n",
       "      <td>104817.0</td>\n",
       "    </tr>\n",
       "    <tr>\n",
       "      <th>Upper class</th>\n",
       "      <td>30770.472222</td>\n",
       "      <td>25152.5</td>\n",
       "      <td>73.819444</td>\n",
       "      <td>76.5</td>\n",
       "      <td>75480.555556</td>\n",
       "      <td>74346.5</td>\n",
       "    </tr>\n",
       "  </tbody>\n",
       "</table>\n",
       "</div>"
      ],
      "text/plain": [
       "                Population          2011 % Homeowners         \\\n",
       "                      mean   median              mean median   \n",
       "cluster                                                        \n",
       "Lower class   30351.000000  26116.0         76.727273   82.0   \n",
       "Middle class  33323.340000  16160.5         81.320000   85.0   \n",
       "Upper class   30770.472222  25152.5         73.819444   76.5   \n",
       "\n",
       "             2019 Median Household Income            \n",
       "                                     mean    median  \n",
       "cluster                                              \n",
       "Lower class                 149172.363636  127753.0  \n",
       "Middle class                104269.840000  104817.0  \n",
       "Upper class                  75480.555556   74346.5  "
      ]
     },
     "execution_count": 31,
     "metadata": {},
     "output_type": "execute_result"
    }
   ],
   "source": [
    "df_2019.groupby('cluster').agg({'Population':['mean', 'median'], \n",
    "                         '2011 % Homeowners':['mean', 'median'], \n",
    "                         '2019 Median Household Income':['mean', 'median']})"
   ]
  },
  {
   "cell_type": "markdown",
   "id": "50bc25e9",
   "metadata": {},
   "source": [
    "### There are clear statistical supports for my lower/middle/upper class designations, which could be useful to filtering out municipalities that I couldn't afford, or may want to aspire to. Also, because I want to target municipalities with higher % homeownership, I can use these slices to narrow my analysis."
   ]
  },
  {
   "cell_type": "code",
   "execution_count": null,
   "id": "66639b38",
   "metadata": {},
   "outputs": [],
   "source": []
  }
 ],
 "metadata": {
  "kernelspec": {
   "display_name": "Python 3 (ipykernel)",
   "language": "python",
   "name": "python3"
  },
  "language_info": {
   "codemirror_mode": {
    "name": "ipython",
    "version": 3
   },
   "file_extension": ".py",
   "mimetype": "text/x-python",
   "name": "python",
   "nbconvert_exporter": "python",
   "pygments_lexer": "ipython3",
   "version": "3.11.5"
  }
 },
 "nbformat": 4,
 "nbformat_minor": 5
}
