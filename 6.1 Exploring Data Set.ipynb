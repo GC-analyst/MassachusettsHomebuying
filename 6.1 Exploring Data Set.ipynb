{
 "cells": [
  {
   "cell_type": "code",
   "execution_count": 52,
   "id": "469ccc07",
   "metadata": {},
   "outputs": [],
   "source": [
    "### Importing Libraries, incl. Data Viz\n",
    "import pandas as pd\n",
    "import numpy as np\n",
    "import os\n",
    "import matplotlib.pyplot as plt\n",
    "import seaborn as sns\n",
    "import scipy"
   ]
  },
  {
   "cell_type": "code",
   "execution_count": 53,
   "id": "ea8f6841",
   "metadata": {},
   "outputs": [],
   "source": [
    "### Create datapath to Final Project Folder - Data\n",
    "datapath = r'/Users/gabrielconfrey/Desktop/Data Analysis/Career Foundry/Achievement 6/Final Project/Data'"
   ]
  },
  {
   "cell_type": "code",
   "execution_count": 54,
   "id": "a5d3221a",
   "metadata": {},
   "outputs": [],
   "source": [
    "### Importing data set that was cleaned and merged in Excel, via csv format\n",
    "df = pd.read_csv(os.path.join(datapath, '1. Original', 'MAHousePrices.csv'))"
   ]
  },
  {
   "cell_type": "markdown",
   "id": "26b873c0",
   "metadata": {},
   "source": [
    "### Need to check the import worked and that the csv came through properly formatted"
   ]
  },
  {
   "cell_type": "code",
   "execution_count": 55,
   "id": "e20d16a8",
   "metadata": {},
   "outputs": [
    {
     "data": {
      "text/plain": [
       "Index(['Town', 'Year', 'Town/Year', 'Value', 'Type', 'County', 'Population',\n",
       "       '2011 % Homeowners', '2019 Per Capita Income', '2019 # Households',\n",
       "       '2019 Median Household Income', '2019 Median Family Income'],\n",
       "      dtype='object')"
      ]
     },
     "execution_count": 55,
     "metadata": {},
     "output_type": "execute_result"
    }
   ],
   "source": [
    "df.columns"
   ]
  },
  {
   "cell_type": "code",
   "execution_count": 56,
   "id": "a1a2ab89",
   "metadata": {},
   "outputs": [
    {
     "name": "stdout",
     "output_type": "stream",
     "text": [
      "<class 'pandas.core.frame.DataFrame'>\n",
      "RangeIndex: 30906 entries, 0 to 30905\n",
      "Data columns (total 12 columns):\n",
      " #   Column                        Non-Null Count  Dtype  \n",
      "---  ------                        --------------  -----  \n",
      " 0   Town                          30906 non-null  object \n",
      " 1   Year                          30906 non-null  int64  \n",
      " 2   Town/Year                     30906 non-null  object \n",
      " 3   Value                         30887 non-null  object \n",
      " 4   Type                          30906 non-null  object \n",
      " 5   County                        29659 non-null  object \n",
      " 6   Population                    751 non-null    float64\n",
      " 7   2011 % Homeowners             29659 non-null  float64\n",
      " 8   2019 Per Capita Income        25135 non-null  object \n",
      " 9   2019 # Households             25135 non-null  float64\n",
      " 10  2019 Median Household Income  25135 non-null  object \n",
      " 11  2019 Median Family Income     25043 non-null  object \n",
      "dtypes: float64(3), int64(1), object(8)\n",
      "memory usage: 2.8+ MB\n"
     ]
    }
   ],
   "source": [
    "df.info()"
   ]
  },
  {
   "cell_type": "code",
   "execution_count": 57,
   "id": "67482e22",
   "metadata": {},
   "outputs": [
    {
     "data": {
      "text/html": [
       "<div>\n",
       "<style scoped>\n",
       "    .dataframe tbody tr th:only-of-type {\n",
       "        vertical-align: middle;\n",
       "    }\n",
       "\n",
       "    .dataframe tbody tr th {\n",
       "        vertical-align: top;\n",
       "    }\n",
       "\n",
       "    .dataframe thead th {\n",
       "        text-align: right;\n",
       "    }\n",
       "</style>\n",
       "<table border=\"1\" class=\"dataframe\">\n",
       "  <thead>\n",
       "    <tr style=\"text-align: right;\">\n",
       "      <th></th>\n",
       "      <th>Year</th>\n",
       "      <th>Population</th>\n",
       "      <th>2011 % Homeowners</th>\n",
       "      <th>2019 # Households</th>\n",
       "    </tr>\n",
       "  </thead>\n",
       "  <tbody>\n",
       "    <tr>\n",
       "      <th>count</th>\n",
       "      <td>30906.000000</td>\n",
       "      <td>751.000000</td>\n",
       "      <td>29659.000000</td>\n",
       "      <td>25135.000000</td>\n",
       "    </tr>\n",
       "    <tr>\n",
       "      <th>mean</th>\n",
       "      <td>2014.123762</td>\n",
       "      <td>30213.922770</td>\n",
       "      <td>78.844567</td>\n",
       "      <td>9414.566262</td>\n",
       "    </tr>\n",
       "    <tr>\n",
       "      <th>std</th>\n",
       "      <td>4.878759</td>\n",
       "      <td>57727.146122</td>\n",
       "      <td>13.312510</td>\n",
       "      <td>18041.026517</td>\n",
       "    </tr>\n",
       "    <tr>\n",
       "      <th>min</th>\n",
       "      <td>2006.000000</td>\n",
       "      <td>2893.000000</td>\n",
       "      <td>34.000000</td>\n",
       "      <td>60.000000</td>\n",
       "    </tr>\n",
       "    <tr>\n",
       "      <th>25%</th>\n",
       "      <td>2010.000000</td>\n",
       "      <td>10535.000000</td>\n",
       "      <td>72.000000</td>\n",
       "      <td>1544.000000</td>\n",
       "    </tr>\n",
       "    <tr>\n",
       "      <th>50%</th>\n",
       "      <td>2014.000000</td>\n",
       "      <td>18473.000000</td>\n",
       "      <td>82.000000</td>\n",
       "      <td>4968.000000</td>\n",
       "    </tr>\n",
       "    <tr>\n",
       "      <th>75%</th>\n",
       "      <td>2018.000000</td>\n",
       "      <td>32931.500000</td>\n",
       "      <td>88.000000</td>\n",
       "      <td>11461.000000</td>\n",
       "    </tr>\n",
       "    <tr>\n",
       "      <th>max</th>\n",
       "      <td>2022.000000</td>\n",
       "      <td>692600.000000</td>\n",
       "      <td>99.000000</td>\n",
       "      <td>249414.000000</td>\n",
       "    </tr>\n",
       "  </tbody>\n",
       "</table>\n",
       "</div>"
      ],
      "text/plain": [
       "               Year     Population  2011 % Homeowners  2019 # Households\n",
       "count  30906.000000     751.000000       29659.000000       25135.000000\n",
       "mean    2014.123762   30213.922770          78.844567        9414.566262\n",
       "std        4.878759   57727.146122          13.312510       18041.026517\n",
       "min     2006.000000    2893.000000          34.000000          60.000000\n",
       "25%     2010.000000   10535.000000          72.000000        1544.000000\n",
       "50%     2014.000000   18473.000000          82.000000        4968.000000\n",
       "75%     2018.000000   32931.500000          88.000000       11461.000000\n",
       "max     2022.000000  692600.000000          99.000000      249414.000000"
      ]
     },
     "execution_count": 57,
     "metadata": {},
     "output_type": "execute_result"
    }
   ],
   "source": [
    "df.describe()"
   ]
  },
  {
   "cell_type": "code",
   "execution_count": 58,
   "id": "a01306de",
   "metadata": {},
   "outputs": [
    {
     "data": {
      "text/plain": [
       "(30906, 12)"
      ]
     },
     "execution_count": 58,
     "metadata": {},
     "output_type": "execute_result"
    }
   ],
   "source": [
    "df.shape"
   ]
  },
  {
   "cell_type": "code",
   "execution_count": 59,
   "id": "e7291e36",
   "metadata": {},
   "outputs": [
    {
     "data": {
      "text/html": [
       "<div>\n",
       "<style scoped>\n",
       "    .dataframe tbody tr th:only-of-type {\n",
       "        vertical-align: middle;\n",
       "    }\n",
       "\n",
       "    .dataframe tbody tr th {\n",
       "        vertical-align: top;\n",
       "    }\n",
       "\n",
       "    .dataframe thead th {\n",
       "        text-align: right;\n",
       "    }\n",
       "</style>\n",
       "<table border=\"1\" class=\"dataframe\">\n",
       "  <thead>\n",
       "    <tr style=\"text-align: right;\">\n",
       "      <th></th>\n",
       "      <th>Town</th>\n",
       "      <th>Year</th>\n",
       "      <th>Town/Year</th>\n",
       "      <th>Value</th>\n",
       "      <th>Type</th>\n",
       "      <th>County</th>\n",
       "      <th>Population</th>\n",
       "      <th>2011 % Homeowners</th>\n",
       "      <th>2019 Per Capita Income</th>\n",
       "      <th>2019 # Households</th>\n",
       "      <th>2019 Median Household Income</th>\n",
       "      <th>2019 Median Family Income</th>\n",
       "    </tr>\n",
       "  </thead>\n",
       "  <tbody>\n",
       "    <tr>\n",
       "      <th>0</th>\n",
       "      <td>Abington</td>\n",
       "      <td>2021</td>\n",
       "      <td>Abington 2021</td>\n",
       "      <td>$500,000.00</td>\n",
       "      <td>house_price</td>\n",
       "      <td>Plymouth</td>\n",
       "      <td>NaN</td>\n",
       "      <td>73.0</td>\n",
       "      <td>$34,567</td>\n",
       "      <td>5798.0</td>\n",
       "      <td>$78,395</td>\n",
       "      <td>$92,452</td>\n",
       "    </tr>\n",
       "    <tr>\n",
       "      <th>1</th>\n",
       "      <td>Abington</td>\n",
       "      <td>2020</td>\n",
       "      <td>Abington 2020</td>\n",
       "      <td>$432,750.00</td>\n",
       "      <td>house_price</td>\n",
       "      <td>Plymouth</td>\n",
       "      <td>NaN</td>\n",
       "      <td>73.0</td>\n",
       "      <td>$34,567</td>\n",
       "      <td>5798.0</td>\n",
       "      <td>$78,395</td>\n",
       "      <td>$92,452</td>\n",
       "    </tr>\n",
       "    <tr>\n",
       "      <th>2</th>\n",
       "      <td>Abington</td>\n",
       "      <td>2019</td>\n",
       "      <td>Abington 2019</td>\n",
       "      <td>$385,000.00</td>\n",
       "      <td>house_price</td>\n",
       "      <td>Plymouth</td>\n",
       "      <td>16668.0</td>\n",
       "      <td>73.0</td>\n",
       "      <td>$34,567</td>\n",
       "      <td>5798.0</td>\n",
       "      <td>$78,395</td>\n",
       "      <td>$92,452</td>\n",
       "    </tr>\n",
       "    <tr>\n",
       "      <th>3</th>\n",
       "      <td>Abington</td>\n",
       "      <td>2018</td>\n",
       "      <td>Abington 2018</td>\n",
       "      <td>$395,000.00</td>\n",
       "      <td>house_price</td>\n",
       "      <td>Plymouth</td>\n",
       "      <td>16532.0</td>\n",
       "      <td>73.0</td>\n",
       "      <td>$34,567</td>\n",
       "      <td>5798.0</td>\n",
       "      <td>$78,395</td>\n",
       "      <td>$92,452</td>\n",
       "    </tr>\n",
       "    <tr>\n",
       "      <th>4</th>\n",
       "      <td>Abington</td>\n",
       "      <td>2016</td>\n",
       "      <td>Abington 2016</td>\n",
       "      <td>$345,000.00</td>\n",
       "      <td>house_price</td>\n",
       "      <td>Plymouth</td>\n",
       "      <td>16335.0</td>\n",
       "      <td>73.0</td>\n",
       "      <td>$34,567</td>\n",
       "      <td>5798.0</td>\n",
       "      <td>$78,395</td>\n",
       "      <td>$92,452</td>\n",
       "    </tr>\n",
       "  </tbody>\n",
       "</table>\n",
       "</div>"
      ],
      "text/plain": [
       "       Town  Year      Town/Year        Value         Type    County  \\\n",
       "0  Abington  2021  Abington 2021  $500,000.00  house_price  Plymouth   \n",
       "1  Abington  2020  Abington 2020  $432,750.00  house_price  Plymouth   \n",
       "2  Abington  2019  Abington 2019  $385,000.00  house_price  Plymouth   \n",
       "3  Abington  2018  Abington 2018  $395,000.00  house_price  Plymouth   \n",
       "4  Abington  2016  Abington 2016  $345,000.00  house_price  Plymouth   \n",
       "\n",
       "   Population  2011 % Homeowners 2019 Per Capita Income  2019 # Households  \\\n",
       "0         NaN               73.0                $34,567             5798.0   \n",
       "1         NaN               73.0                $34,567             5798.0   \n",
       "2     16668.0               73.0                $34,567             5798.0   \n",
       "3     16532.0               73.0                $34,567             5798.0   \n",
       "4     16335.0               73.0                $34,567             5798.0   \n",
       "\n",
       "  2019 Median Household Income 2019 Median Family Income  \n",
       "0                      $78,395                   $92,452  \n",
       "1                      $78,395                   $92,452  \n",
       "2                      $78,395                   $92,452  \n",
       "3                      $78,395                   $92,452  \n",
       "4                      $78,395                   $92,452  "
      ]
     },
     "execution_count": 59,
     "metadata": {},
     "output_type": "execute_result"
    }
   ],
   "source": [
    "df.head(5)"
   ]
  },
  {
   "cell_type": "code",
   "execution_count": 60,
   "id": "5a89e284",
   "metadata": {},
   "outputs": [
    {
     "data": {
      "text/plain": [
       "367"
      ]
     },
     "execution_count": 60,
     "metadata": {},
     "output_type": "execute_result"
    }
   ],
   "source": [
    "### I want to know how many distinct Towns there are.\n",
    "df['Town'].nunique()"
   ]
  },
  {
   "cell_type": "code",
   "execution_count": 61,
   "id": "064a42e3",
   "metadata": {},
   "outputs": [
    {
     "data": {
      "text/plain": [
       "284"
      ]
     },
     "execution_count": 61,
     "metadata": {},
     "output_type": "execute_result"
    }
   ],
   "source": [
    "### Because I input values in the 2019 Per Capita, Households, Household Income, and Family Income columns\n",
    "### for each unique Town, I want to run value counts to see if the unique values in those columns matches Town.\n",
    "df['2019 Per Capita Income'].nunique()"
   ]
  },
  {
   "cell_type": "code",
   "execution_count": 62,
   "id": "81596ddf",
   "metadata": {},
   "outputs": [
    {
     "data": {
      "text/plain": [
       "286"
      ]
     },
     "execution_count": 62,
     "metadata": {},
     "output_type": "execute_result"
    }
   ],
   "source": [
    "df['2019 # Households'].nunique()"
   ]
  },
  {
   "cell_type": "code",
   "execution_count": 63,
   "id": "1f44e646",
   "metadata": {},
   "outputs": [
    {
     "data": {
      "text/plain": [
       "282"
      ]
     },
     "execution_count": 63,
     "metadata": {},
     "output_type": "execute_result"
    }
   ],
   "source": [
    "df['2019 Median Household Income'].nunique()"
   ]
  },
  {
   "cell_type": "code",
   "execution_count": 64,
   "id": "d9a85f25",
   "metadata": {},
   "outputs": [
    {
     "data": {
      "text/plain": [
       "282"
      ]
     },
     "execution_count": 64,
     "metadata": {},
     "output_type": "execute_result"
    }
   ],
   "source": [
    "df['2019 Median Family Income'].nunique()"
   ]
  },
  {
   "cell_type": "markdown",
   "id": "b7650c8e",
   "metadata": {},
   "source": [
    "### It's evident that I did not have data for each unique town, which will make comparisons unproductive.\n",
    "### Next step is to identify which Towns do not have values in those columns and delete their rows from the data.\n",
    "### Given 367 Towns, it's expected that 85 of them will not have all the data (2019 Median Family Income = 282)."
   ]
  },
  {
   "cell_type": "code",
   "execution_count": 65,
   "id": "cb5131f4",
   "metadata": {},
   "outputs": [
    {
     "data": {
      "text/plain": [
       "0        False\n",
       "1        False\n",
       "2        False\n",
       "3        False\n",
       "4        False\n",
       "         ...  \n",
       "30901    False\n",
       "30902    False\n",
       "30903    False\n",
       "30904    False\n",
       "30905    False\n",
       "Name: 2019 Median Family Income, Length: 30906, dtype: bool"
      ]
     },
     "execution_count": 65,
     "metadata": {},
     "output_type": "execute_result"
    }
   ],
   "source": [
    "### Find NaN values in '2019 Median Family Income'\n",
    "df['2019 Median Family Income'].isna()"
   ]
  },
  {
   "cell_type": "code",
   "execution_count": 66,
   "id": "2534ca75",
   "metadata": {},
   "outputs": [
    {
     "data": {
      "text/plain": [
       "30906"
      ]
     },
     "execution_count": 66,
     "metadata": {},
     "output_type": "execute_result"
    }
   ],
   "source": [
    "df['2019 Median Family Income'].isna().count()"
   ]
  },
  {
   "cell_type": "code",
   "execution_count": 67,
   "id": "2515641a",
   "metadata": {},
   "outputs": [],
   "source": [
    "dfNaN = (df[df['2019 Median Family Income'].isnull()])"
   ]
  },
  {
   "cell_type": "code",
   "execution_count": 68,
   "id": "2f15530c",
   "metadata": {},
   "outputs": [
    {
     "data": {
      "text/html": [
       "<div>\n",
       "<style scoped>\n",
       "    .dataframe tbody tr th:only-of-type {\n",
       "        vertical-align: middle;\n",
       "    }\n",
       "\n",
       "    .dataframe tbody tr th {\n",
       "        vertical-align: top;\n",
       "    }\n",
       "\n",
       "    .dataframe thead th {\n",
       "        text-align: right;\n",
       "    }\n",
       "</style>\n",
       "<table border=\"1\" class=\"dataframe\">\n",
       "  <thead>\n",
       "    <tr style=\"text-align: right;\">\n",
       "      <th></th>\n",
       "      <th>Town</th>\n",
       "      <th>Year</th>\n",
       "      <th>Town/Year</th>\n",
       "      <th>Value</th>\n",
       "      <th>Type</th>\n",
       "      <th>County</th>\n",
       "      <th>Population</th>\n",
       "      <th>2011 % Homeowners</th>\n",
       "      <th>2019 Per Capita Income</th>\n",
       "      <th>2019 # Households</th>\n",
       "      <th>2019 Median Household Income</th>\n",
       "      <th>2019 Median Family Income</th>\n",
       "    </tr>\n",
       "  </thead>\n",
       "  <tbody>\n",
       "    <tr>\n",
       "      <th>14</th>\n",
       "      <td>Amesbury</td>\n",
       "      <td>2021</td>\n",
       "      <td>Amesbury 2021</td>\n",
       "      <td>$525,000.00</td>\n",
       "      <td>house_price</td>\n",
       "      <td>Essex</td>\n",
       "      <td>NaN</td>\n",
       "      <td>70.0</td>\n",
       "      <td>NaN</td>\n",
       "      <td>NaN</td>\n",
       "      <td>NaN</td>\n",
       "      <td>NaN</td>\n",
       "    </tr>\n",
       "    <tr>\n",
       "      <th>15</th>\n",
       "      <td>Amesbury</td>\n",
       "      <td>2020</td>\n",
       "      <td>Amesbury 2020</td>\n",
       "      <td>$463,000.00</td>\n",
       "      <td>house_price</td>\n",
       "      <td>Essex</td>\n",
       "      <td>NaN</td>\n",
       "      <td>70.0</td>\n",
       "      <td>NaN</td>\n",
       "      <td>NaN</td>\n",
       "      <td>NaN</td>\n",
       "      <td>NaN</td>\n",
       "    </tr>\n",
       "    <tr>\n",
       "      <th>16</th>\n",
       "      <td>Amesbury</td>\n",
       "      <td>2019</td>\n",
       "      <td>Amesbury 2019</td>\n",
       "      <td>$415,000.00</td>\n",
       "      <td>house_price</td>\n",
       "      <td>Essex</td>\n",
       "      <td>17532.0</td>\n",
       "      <td>70.0</td>\n",
       "      <td>NaN</td>\n",
       "      <td>NaN</td>\n",
       "      <td>NaN</td>\n",
       "      <td>NaN</td>\n",
       "    </tr>\n",
       "    <tr>\n",
       "      <th>17</th>\n",
       "      <td>Amesbury</td>\n",
       "      <td>2018</td>\n",
       "      <td>Amesbury 2018</td>\n",
       "      <td>$390,950.00</td>\n",
       "      <td>house_price</td>\n",
       "      <td>Essex</td>\n",
       "      <td>17510.0</td>\n",
       "      <td>70.0</td>\n",
       "      <td>NaN</td>\n",
       "      <td>NaN</td>\n",
       "      <td>NaN</td>\n",
       "      <td>NaN</td>\n",
       "    </tr>\n",
       "    <tr>\n",
       "      <th>18</th>\n",
       "      <td>Amesbury</td>\n",
       "      <td>2016</td>\n",
       "      <td>Amesbury 2016</td>\n",
       "      <td>$330,925.00</td>\n",
       "      <td>house_price</td>\n",
       "      <td>Essex</td>\n",
       "      <td>17327.0</td>\n",
       "      <td>70.0</td>\n",
       "      <td>NaN</td>\n",
       "      <td>NaN</td>\n",
       "      <td>NaN</td>\n",
       "      <td>NaN</td>\n",
       "    </tr>\n",
       "  </tbody>\n",
       "</table>\n",
       "</div>"
      ],
      "text/plain": [
       "        Town  Year      Town/Year        Value         Type County  \\\n",
       "14  Amesbury  2021  Amesbury 2021  $525,000.00  house_price  Essex   \n",
       "15  Amesbury  2020  Amesbury 2020  $463,000.00  house_price  Essex   \n",
       "16  Amesbury  2019  Amesbury 2019  $415,000.00  house_price  Essex   \n",
       "17  Amesbury  2018  Amesbury 2018  $390,950.00  house_price  Essex   \n",
       "18  Amesbury  2016  Amesbury 2016  $330,925.00  house_price  Essex   \n",
       "\n",
       "    Population  2011 % Homeowners 2019 Per Capita Income  2019 # Households  \\\n",
       "14         NaN               70.0                    NaN                NaN   \n",
       "15         NaN               70.0                    NaN                NaN   \n",
       "16     17532.0               70.0                    NaN                NaN   \n",
       "17     17510.0               70.0                    NaN                NaN   \n",
       "18     17327.0               70.0                    NaN                NaN   \n",
       "\n",
       "   2019 Median Household Income 2019 Median Family Income  \n",
       "14                          NaN                       NaN  \n",
       "15                          NaN                       NaN  \n",
       "16                          NaN                       NaN  \n",
       "17                          NaN                       NaN  \n",
       "18                          NaN                       NaN  "
      ]
     },
     "execution_count": 68,
     "metadata": {},
     "output_type": "execute_result"
    }
   ],
   "source": [
    "dfNaN.head()"
   ]
  },
  {
   "cell_type": "code",
   "execution_count": 69,
   "id": "a44e5c83",
   "metadata": {},
   "outputs": [
    {
     "data": {
      "text/plain": [
       "77"
      ]
     },
     "execution_count": 69,
     "metadata": {},
     "output_type": "execute_result"
    }
   ],
   "source": [
    "dfNaN['Town'].nunique()"
   ]
  },
  {
   "cell_type": "markdown",
   "id": "9b926656",
   "metadata": {},
   "source": [
    "### By subsetting the null values, and counting the unique Towns in that subset, it seems there are 77 towns with missing data in the Family Income column. This number is relatively close to the expected.\n",
    "### Because these Towns don't have the necessary information for my analysis, I could either find the information via another source, or delete the Towns with NaN in that column.\n",
    "### I will do the latter."
   ]
  },
  {
   "cell_type": "code",
   "execution_count": 72,
   "id": "22c13324",
   "metadata": {},
   "outputs": [
    {
     "data": {
      "text/plain": [
       "array(['Amesbury', 'Bellingham', 'Braintree', 'Cambridge', 'Essex',\n",
       "       'Hull', 'Manchester-by-the-Sea', 'Melrose', 'Middleboro', 'Millis',\n",
       "       'Nahant', 'Newbury', 'Norfolk', 'North Attleboro', 'Pembroke',\n",
       "       'Pepperell', 'Saugus', 'Southboro', 'Townsend', 'Watertown',\n",
       "       'Weston', 'Barnstable Town', 'Chatham', 'Orleans', 'Province town',\n",
       "       'Truro', 'Wellfleet', 'Alford', 'Egremont', 'Mount Washington',\n",
       "       'New Ashford', 'Richmond', 'Tyringham', 'Williams town',\n",
       "       'Free town', 'Aquinnah', 'Chilmark', 'Edgar town', 'George town',\n",
       "       'Buckland', 'Leverett', 'East Longmeadow', 'Longmeadow', 'Tolland',\n",
       "       'Belcher town', 'Hadley', 'Plainfield', 'South Hadley',\n",
       "       'Water city', 'Marion', 'Auburn', 'Berlin', 'Bolton', 'Boylston',\n",
       "       'Grafton', 'Holden', 'Hopedale', 'Mendon', 'Northborough',\n",
       "       'Phillipston', 'Princeton', 'Sterling', 'Sutton', 'Upton',\n",
       "       'Uxbridge', 'Westborough', 'Amesbury Town', 'Greenfield Town',\n",
       "       'Agawam Town', 'Palmer Town', 'West Springfield Town',\n",
       "       'Easthampton Town', 'Braintree Town', 'Franklin Town',\n",
       "       'Weymouth Town', 'Winthrop Town', 'Southbridge Town'], dtype=object)"
      ]
     },
     "execution_count": 72,
     "metadata": {},
     "output_type": "execute_result"
    }
   ],
   "source": [
    "dfNaN[\"Town\"].unique()"
   ]
  },
  {
   "cell_type": "code",
   "execution_count": 78,
   "id": "3a46956b",
   "metadata": {},
   "outputs": [],
   "source": [
    "df.dropna(subset = ['2019 Median Family Income'], inplace=True)"
   ]
  },
  {
   "cell_type": "code",
   "execution_count": 85,
   "id": "1514a24f",
   "metadata": {},
   "outputs": [
    {
     "data": {
      "text/plain": [
       "0"
      ]
     },
     "execution_count": 85,
     "metadata": {},
     "output_type": "execute_result"
    }
   ],
   "source": [
    "df['2019 Median Family Income'].isna().sum()"
   ]
  },
  {
   "cell_type": "markdown",
   "id": "83322586",
   "metadata": {},
   "source": [
    "### I have successfully removed the null values from the 2019 Median Family Income column."
   ]
  },
  {
   "cell_type": "code",
   "execution_count": 86,
   "id": "f067691d",
   "metadata": {},
   "outputs": [
    {
     "data": {
      "text/plain": [
       "(25043, 12)"
      ]
     },
     "execution_count": 86,
     "metadata": {},
     "output_type": "execute_result"
    }
   ],
   "source": [
    "df.shape"
   ]
  },
  {
   "cell_type": "code",
   "execution_count": 87,
   "id": "e8302f61",
   "metadata": {},
   "outputs": [
    {
     "data": {
      "text/plain": [
       "290"
      ]
     },
     "execution_count": 87,
     "metadata": {},
     "output_type": "execute_result"
    }
   ],
   "source": [
    "df['Town'].nunique()"
   ]
  },
  {
   "cell_type": "markdown",
   "id": "8d53cfcf",
   "metadata": {},
   "source": [
    "### There are now 290 unique Towns, which is 77 less than before. This matches our expectation."
   ]
  },
  {
   "cell_type": "code",
   "execution_count": 88,
   "id": "9c736ad3",
   "metadata": {},
   "outputs": [
    {
     "data": {
      "text/html": [
       "<div>\n",
       "<style scoped>\n",
       "    .dataframe tbody tr th:only-of-type {\n",
       "        vertical-align: middle;\n",
       "    }\n",
       "\n",
       "    .dataframe tbody tr th {\n",
       "        vertical-align: top;\n",
       "    }\n",
       "\n",
       "    .dataframe thead th {\n",
       "        text-align: right;\n",
       "    }\n",
       "</style>\n",
       "<table border=\"1\" class=\"dataframe\">\n",
       "  <thead>\n",
       "    <tr style=\"text-align: right;\">\n",
       "      <th></th>\n",
       "      <th>Town</th>\n",
       "      <th>Year</th>\n",
       "      <th>Value</th>\n",
       "      <th>Type</th>\n",
       "      <th>County</th>\n",
       "      <th>Population</th>\n",
       "      <th>2011 % Homeowners</th>\n",
       "      <th>2019 Per Capita Income</th>\n",
       "      <th>2019 # Households</th>\n",
       "      <th>2019 Median Household Income</th>\n",
       "      <th>2019 Median Family Income</th>\n",
       "    </tr>\n",
       "  </thead>\n",
       "  <tbody>\n",
       "    <tr>\n",
       "      <th>0</th>\n",
       "      <td>Abington</td>\n",
       "      <td>2021</td>\n",
       "      <td>$500,000.00</td>\n",
       "      <td>house_price</td>\n",
       "      <td>Plymouth</td>\n",
       "      <td>NaN</td>\n",
       "      <td>73.0</td>\n",
       "      <td>$34,567</td>\n",
       "      <td>5798.0</td>\n",
       "      <td>$78,395</td>\n",
       "      <td>$92,452</td>\n",
       "    </tr>\n",
       "    <tr>\n",
       "      <th>1</th>\n",
       "      <td>Abington</td>\n",
       "      <td>2020</td>\n",
       "      <td>$432,750.00</td>\n",
       "      <td>house_price</td>\n",
       "      <td>Plymouth</td>\n",
       "      <td>NaN</td>\n",
       "      <td>73.0</td>\n",
       "      <td>$34,567</td>\n",
       "      <td>5798.0</td>\n",
       "      <td>$78,395</td>\n",
       "      <td>$92,452</td>\n",
       "    </tr>\n",
       "    <tr>\n",
       "      <th>2</th>\n",
       "      <td>Abington</td>\n",
       "      <td>2019</td>\n",
       "      <td>$385,000.00</td>\n",
       "      <td>house_price</td>\n",
       "      <td>Plymouth</td>\n",
       "      <td>16668.0</td>\n",
       "      <td>73.0</td>\n",
       "      <td>$34,567</td>\n",
       "      <td>5798.0</td>\n",
       "      <td>$78,395</td>\n",
       "      <td>$92,452</td>\n",
       "    </tr>\n",
       "    <tr>\n",
       "      <th>3</th>\n",
       "      <td>Abington</td>\n",
       "      <td>2018</td>\n",
       "      <td>$395,000.00</td>\n",
       "      <td>house_price</td>\n",
       "      <td>Plymouth</td>\n",
       "      <td>16532.0</td>\n",
       "      <td>73.0</td>\n",
       "      <td>$34,567</td>\n",
       "      <td>5798.0</td>\n",
       "      <td>$78,395</td>\n",
       "      <td>$92,452</td>\n",
       "    </tr>\n",
       "    <tr>\n",
       "      <th>4</th>\n",
       "      <td>Abington</td>\n",
       "      <td>2016</td>\n",
       "      <td>$345,000.00</td>\n",
       "      <td>house_price</td>\n",
       "      <td>Plymouth</td>\n",
       "      <td>16335.0</td>\n",
       "      <td>73.0</td>\n",
       "      <td>$34,567</td>\n",
       "      <td>5798.0</td>\n",
       "      <td>$78,395</td>\n",
       "      <td>$92,452</td>\n",
       "    </tr>\n",
       "    <tr>\n",
       "      <th>...</th>\n",
       "      <td>...</td>\n",
       "      <td>...</td>\n",
       "      <td>...</td>\n",
       "      <td>...</td>\n",
       "      <td>...</td>\n",
       "      <td>...</td>\n",
       "      <td>...</td>\n",
       "      <td>...</td>\n",
       "      <td>...</td>\n",
       "      <td>...</td>\n",
       "      <td>...</td>\n",
       "    </tr>\n",
       "    <tr>\n",
       "      <th>30901</th>\n",
       "      <td>Worcester</td>\n",
       "      <td>2022</td>\n",
       "      <td>$1,103.00</td>\n",
       "      <td>Br0_rent</td>\n",
       "      <td>Worcester</td>\n",
       "      <td>NaN</td>\n",
       "      <td>49.0</td>\n",
       "      <td>$24,330</td>\n",
       "      <td>68850.0</td>\n",
       "      <td>$45,932</td>\n",
       "      <td>$57,704</td>\n",
       "    </tr>\n",
       "    <tr>\n",
       "      <th>30902</th>\n",
       "      <td>Worcester</td>\n",
       "      <td>2022</td>\n",
       "      <td>$1,162.00</td>\n",
       "      <td>Br1_rent</td>\n",
       "      <td>Worcester</td>\n",
       "      <td>NaN</td>\n",
       "      <td>49.0</td>\n",
       "      <td>$24,330</td>\n",
       "      <td>68850.0</td>\n",
       "      <td>$45,932</td>\n",
       "      <td>$57,704</td>\n",
       "    </tr>\n",
       "    <tr>\n",
       "      <th>30903</th>\n",
       "      <td>Worcester</td>\n",
       "      <td>2022</td>\n",
       "      <td>$1,491.00</td>\n",
       "      <td>Br2_rent</td>\n",
       "      <td>Worcester</td>\n",
       "      <td>NaN</td>\n",
       "      <td>49.0</td>\n",
       "      <td>$24,330</td>\n",
       "      <td>68850.0</td>\n",
       "      <td>$45,932</td>\n",
       "      <td>$57,704</td>\n",
       "    </tr>\n",
       "    <tr>\n",
       "      <th>30904</th>\n",
       "      <td>Worcester</td>\n",
       "      <td>2022</td>\n",
       "      <td>$1,843.00</td>\n",
       "      <td>Br3_rent</td>\n",
       "      <td>Worcester</td>\n",
       "      <td>NaN</td>\n",
       "      <td>49.0</td>\n",
       "      <td>$24,330</td>\n",
       "      <td>68850.0</td>\n",
       "      <td>$45,932</td>\n",
       "      <td>$57,704</td>\n",
       "    </tr>\n",
       "    <tr>\n",
       "      <th>30905</th>\n",
       "      <td>Worcester</td>\n",
       "      <td>2022</td>\n",
       "      <td>$2,022.00</td>\n",
       "      <td>Br4_rent</td>\n",
       "      <td>Worcester</td>\n",
       "      <td>NaN</td>\n",
       "      <td>49.0</td>\n",
       "      <td>$24,330</td>\n",
       "      <td>68850.0</td>\n",
       "      <td>$45,932</td>\n",
       "      <td>$57,704</td>\n",
       "    </tr>\n",
       "  </tbody>\n",
       "</table>\n",
       "<p>25043 rows × 11 columns</p>\n",
       "</div>"
      ],
      "text/plain": [
       "            Town  Year        Value         Type     County  Population  \\\n",
       "0       Abington  2021  $500,000.00  house_price   Plymouth         NaN   \n",
       "1       Abington  2020  $432,750.00  house_price   Plymouth         NaN   \n",
       "2       Abington  2019  $385,000.00  house_price   Plymouth     16668.0   \n",
       "3       Abington  2018  $395,000.00  house_price   Plymouth     16532.0   \n",
       "4       Abington  2016  $345,000.00  house_price   Plymouth     16335.0   \n",
       "...          ...   ...          ...          ...        ...         ...   \n",
       "30901  Worcester  2022    $1,103.00     Br0_rent  Worcester         NaN   \n",
       "30902  Worcester  2022    $1,162.00     Br1_rent  Worcester         NaN   \n",
       "30903  Worcester  2022    $1,491.00     Br2_rent  Worcester         NaN   \n",
       "30904  Worcester  2022    $1,843.00     Br3_rent  Worcester         NaN   \n",
       "30905  Worcester  2022    $2,022.00     Br4_rent  Worcester         NaN   \n",
       "\n",
       "       2011 % Homeowners 2019 Per Capita Income  2019 # Households  \\\n",
       "0                   73.0                $34,567             5798.0   \n",
       "1                   73.0                $34,567             5798.0   \n",
       "2                   73.0                $34,567             5798.0   \n",
       "3                   73.0                $34,567             5798.0   \n",
       "4                   73.0                $34,567             5798.0   \n",
       "...                  ...                    ...                ...   \n",
       "30901               49.0                $24,330            68850.0   \n",
       "30902               49.0                $24,330            68850.0   \n",
       "30903               49.0                $24,330            68850.0   \n",
       "30904               49.0                $24,330            68850.0   \n",
       "30905               49.0                $24,330            68850.0   \n",
       "\n",
       "      2019 Median Household Income 2019 Median Family Income  \n",
       "0                          $78,395                   $92,452  \n",
       "1                          $78,395                   $92,452  \n",
       "2                          $78,395                   $92,452  \n",
       "3                          $78,395                   $92,452  \n",
       "4                          $78,395                   $92,452  \n",
       "...                            ...                       ...  \n",
       "30901                      $45,932                   $57,704  \n",
       "30902                      $45,932                   $57,704  \n",
       "30903                      $45,932                   $57,704  \n",
       "30904                      $45,932                   $57,704  \n",
       "30905                      $45,932                   $57,704  \n",
       "\n",
       "[25043 rows x 11 columns]"
      ]
     },
     "execution_count": 88,
     "metadata": {},
     "output_type": "execute_result"
    }
   ],
   "source": [
    "### Last step is to delete unnecessary columns: \"Town/Date\".\n",
    "df.drop(columns = ['Town/Year'])"
   ]
  },
  {
   "cell_type": "code",
   "execution_count": 89,
   "id": "7c19a3e3",
   "metadata": {},
   "outputs": [
    {
     "data": {
      "text/plain": [
       "Type\n",
       "Br0_rent       4823\n",
       "Br1_rent       4823\n",
       "Br2_rent       4823\n",
       "Br3_rent       4823\n",
       "Br4_rent       4823\n",
       "house_price     928\n",
       "Name: count, dtype: int64"
      ]
     },
     "execution_count": 89,
     "metadata": {},
     "output_type": "execute_result"
    }
   ],
   "source": [
    "### One last value_count for Type though:\n",
    "df['Type'].value_counts()"
   ]
  },
  {
   "cell_type": "markdown",
   "id": "9bb1f097",
   "metadata": {},
   "source": [
    "### Because I'm only interested in houses or rentals with 2 or more bedrooms, I can also delete rows where Type = 'Br0_rent'"
   ]
  },
  {
   "cell_type": "code",
   "execution_count": 90,
   "id": "029297f5",
   "metadata": {},
   "outputs": [],
   "source": [
    "### Deleting rows where 'Type' = Br0_rent\n",
    "df.drop(df.loc[df['Type']== 'Br0_rent'].index, inplace=True)"
   ]
  },
  {
   "cell_type": "code",
   "execution_count": 91,
   "id": "af876024",
   "metadata": {},
   "outputs": [
    {
     "data": {
      "text/plain": [
       "Type\n",
       "Br1_rent       4823\n",
       "Br2_rent       4823\n",
       "Br3_rent       4823\n",
       "Br4_rent       4823\n",
       "house_price     928\n",
       "Name: count, dtype: int64"
      ]
     },
     "execution_count": 91,
     "metadata": {},
     "output_type": "execute_result"
    }
   ],
   "source": [
    "df['Type'].value_counts()"
   ]
  },
  {
   "cell_type": "code",
   "execution_count": 92,
   "id": "c6197a7b",
   "metadata": {},
   "outputs": [],
   "source": [
    "### Deleting rows where 'Type' = Br1_rent\n",
    "df.drop(df.loc[df['Type']== 'Br1_rent'].index, inplace=True)"
   ]
  },
  {
   "cell_type": "code",
   "execution_count": 93,
   "id": "25dd2f4f",
   "metadata": {},
   "outputs": [
    {
     "data": {
      "text/plain": [
       "Type\n",
       "Br2_rent       4823\n",
       "Br3_rent       4823\n",
       "Br4_rent       4823\n",
       "house_price     928\n",
       "Name: count, dtype: int64"
      ]
     },
     "execution_count": 93,
     "metadata": {},
     "output_type": "execute_result"
    }
   ],
   "source": [
    "df['Type'].value_counts()"
   ]
  },
  {
   "cell_type": "code",
   "execution_count": 99,
   "id": "d8dda7c6",
   "metadata": {},
   "outputs": [
    {
     "data": {
      "text/plain": [
       "count        15397\n",
       "unique           4\n",
       "top       Br2_rent\n",
       "freq          4823\n",
       "Name: Type, dtype: object"
      ]
     },
     "execution_count": 99,
     "metadata": {},
     "output_type": "execute_result"
    }
   ],
   "source": [
    "df['Type'].describe()"
   ]
  },
  {
   "cell_type": "code",
   "execution_count": 100,
   "id": "ee65049b",
   "metadata": {},
   "outputs": [
    {
     "data": {
      "text/plain": [
       "(15397, 12)"
      ]
     },
     "execution_count": 100,
     "metadata": {},
     "output_type": "execute_result"
    }
   ],
   "source": [
    "df.shape"
   ]
  },
  {
   "cell_type": "markdown",
   "id": "f7123af3",
   "metadata": {},
   "source": [
    "# After cleaning, we have 15,397 rows of data to analyze, with the necessary column values to answer the following research questions:\n",
    "\n",
    "### The area needs to be\n",
    "1) affordable, defined as median home price <$400,000, and the median family income <=$100,000.\n",
    "2) in a residential area, defined as being 75% home-owned\n",
    "3) within a 1 hr drive (30 mi) of Boston or (50 mi) Manchester, VT.\n"
   ]
  },
  {
   "cell_type": "code",
   "execution_count": 107,
   "id": "49fa58a2",
   "metadata": {},
   "outputs": [],
   "source": [
    "### Exporting dataset into Cleaned as pkl\n",
    "df.to_pickle(os.path.join(datapath, '2. Cleaned', 'homedataclean.pkl'))"
   ]
  },
  {
   "cell_type": "code",
   "execution_count": null,
   "id": "fb4bce8f",
   "metadata": {},
   "outputs": [],
   "source": []
  }
 ],
 "metadata": {
  "kernelspec": {
   "display_name": "Python 3 (ipykernel)",
   "language": "python",
   "name": "python3"
  },
  "language_info": {
   "codemirror_mode": {
    "name": "ipython",
    "version": 3
   },
   "file_extension": ".py",
   "mimetype": "text/x-python",
   "name": "python",
   "nbconvert_exporter": "python",
   "pygments_lexer": "ipython3",
   "version": "3.11.4"
  }
 },
 "nbformat": 4,
 "nbformat_minor": 5
}
