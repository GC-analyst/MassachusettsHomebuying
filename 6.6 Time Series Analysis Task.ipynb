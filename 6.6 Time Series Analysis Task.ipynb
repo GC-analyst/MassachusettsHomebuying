{
 "cells": [
  {
   "cell_type": "code",
   "execution_count": 25,
   "id": "0872c81e-80ff-48d8-b624-f04677a44abe",
   "metadata": {},
   "outputs": [],
   "source": [
    "import quandl\n",
    "import pandas as pd\n",
    "import numpy as np\n",
    "import seaborn as sns\n",
    "import matplotlib\n",
    "import matplotlib.pyplot as plt\n",
    "import statsmodels.api as sm\n",
    "import os\n",
    "import warnings\n",
    "\n",
    "warnings.filterwarnings(\"ignore\")\n",
    "\n",
    "plt.style.use('fivethirtyeight')"
   ]
  },
  {
   "cell_type": "markdown",
   "id": "f202896a-d403-470f-9555-ab05c0a0f554",
   "metadata": {},
   "source": [
    "### Directions:\n",
    "1) Install the Quandl library and register for a Quandl account as described in the Exercise.\n",
    "2) Find a data set to work and import it into your Jupyter notebook. Ensure that this data somehow connects to the broader research topic for your Achievement project. The best data set would be one that shares a common key with your main data set, such as a geographic component, so you can merge the data, but this could be difficult to find, so it’s not a requirement.\n"
   ]
  },
  {
   "cell_type": "code",
   "execution_count": 26,
   "id": "4ab7d049-037a-4808-876f-e7d3e15a73ee",
   "metadata": {},
   "outputs": [],
   "source": [
    "### Create datapath to Final Project Folder - Data\n",
    "datapath = r'/Users/gabrielconfrey/Desktop/Data Analysis/Career Foundry/Achievement 6/Final Project/Data'"
   ]
  },
  {
   "cell_type": "code",
   "execution_count": 27,
   "id": "ad49eb93-f794-435d-aca9-45e99485c99d",
   "metadata": {},
   "outputs": [],
   "source": [
    "# IMPORTING DATASET OF HOME PRICES ONLY\n",
    "df = pd.read_pickle(os.path.join(datapath, '2. Cleaned', 'house_priceONLY.pkl'))"
   ]
  },
  {
   "cell_type": "code",
   "execution_count": 28,
   "id": "80eb7631-992e-471c-9770-ba36a40d185c",
   "metadata": {},
   "outputs": [
    {
     "data": {
      "text/html": [
       "<div>\n",
       "<style scoped>\n",
       "    .dataframe tbody tr th:only-of-type {\n",
       "        vertical-align: middle;\n",
       "    }\n",
       "\n",
       "    .dataframe tbody tr th {\n",
       "        vertical-align: top;\n",
       "    }\n",
       "\n",
       "    .dataframe thead th {\n",
       "        text-align: right;\n",
       "    }\n",
       "</style>\n",
       "<table border=\"1\" class=\"dataframe\">\n",
       "  <thead>\n",
       "    <tr style=\"text-align: right;\">\n",
       "      <th></th>\n",
       "      <th>Town</th>\n",
       "      <th>Year</th>\n",
       "      <th>Value</th>\n",
       "      <th>Type</th>\n",
       "      <th>County</th>\n",
       "      <th>Population</th>\n",
       "      <th>2011 % Homeowners</th>\n",
       "      <th>2019 # Households</th>\n",
       "      <th>2019 Median Household Income</th>\n",
       "    </tr>\n",
       "  </thead>\n",
       "  <tbody>\n",
       "    <tr>\n",
       "      <th>0</th>\n",
       "      <td>Abington</td>\n",
       "      <td>2021</td>\n",
       "      <td>500000</td>\n",
       "      <td>house_price</td>\n",
       "      <td>Plymouth</td>\n",
       "      <td>NaN</td>\n",
       "      <td>73</td>\n",
       "      <td>5798</td>\n",
       "      <td>78395</td>\n",
       "    </tr>\n",
       "    <tr>\n",
       "      <th>1</th>\n",
       "      <td>Abington</td>\n",
       "      <td>2020</td>\n",
       "      <td>432750</td>\n",
       "      <td>house_price</td>\n",
       "      <td>Plymouth</td>\n",
       "      <td>NaN</td>\n",
       "      <td>73</td>\n",
       "      <td>5798</td>\n",
       "      <td>78395</td>\n",
       "    </tr>\n",
       "    <tr>\n",
       "      <th>2</th>\n",
       "      <td>Abington</td>\n",
       "      <td>2019</td>\n",
       "      <td>385000</td>\n",
       "      <td>house_price</td>\n",
       "      <td>Plymouth</td>\n",
       "      <td>16668.0</td>\n",
       "      <td>73</td>\n",
       "      <td>5798</td>\n",
       "      <td>78395</td>\n",
       "    </tr>\n",
       "    <tr>\n",
       "      <th>3</th>\n",
       "      <td>Abington</td>\n",
       "      <td>2018</td>\n",
       "      <td>395000</td>\n",
       "      <td>house_price</td>\n",
       "      <td>Plymouth</td>\n",
       "      <td>16532.0</td>\n",
       "      <td>73</td>\n",
       "      <td>5798</td>\n",
       "      <td>78395</td>\n",
       "    </tr>\n",
       "    <tr>\n",
       "      <th>4</th>\n",
       "      <td>Abington</td>\n",
       "      <td>2016</td>\n",
       "      <td>345000</td>\n",
       "      <td>house_price</td>\n",
       "      <td>Plymouth</td>\n",
       "      <td>16335.0</td>\n",
       "      <td>73</td>\n",
       "      <td>5798</td>\n",
       "      <td>78395</td>\n",
       "    </tr>\n",
       "  </tbody>\n",
       "</table>\n",
       "</div>"
      ],
      "text/plain": [
       "       Town  Year   Value         Type    County  Population  \\\n",
       "0  Abington  2021  500000  house_price  Plymouth         NaN   \n",
       "1  Abington  2020  432750  house_price  Plymouth         NaN   \n",
       "2  Abington  2019  385000  house_price  Plymouth     16668.0   \n",
       "3  Abington  2018  395000  house_price  Plymouth     16532.0   \n",
       "4  Abington  2016  345000  house_price  Plymouth     16335.0   \n",
       "\n",
       "   2011 % Homeowners  2019 # Households  2019 Median Household Income  \n",
       "0                 73               5798                         78395  \n",
       "1                 73               5798                         78395  \n",
       "2                 73               5798                         78395  \n",
       "3                 73               5798                         78395  \n",
       "4                 73               5798                         78395  "
      ]
     },
     "execution_count": 28,
     "metadata": {},
     "output_type": "execute_result"
    }
   ],
   "source": [
    "df.head()"
   ]
  },
  {
   "cell_type": "markdown",
   "id": "89db36ab-a401-4509-9c5c-2d2d01b122a9",
   "metadata": {},
   "source": [
    "### I'm using my default dataset, as I want to explore possible trends in home value in a target municipality."
   ]
  },
  {
   "cell_type": "markdown",
   "id": "cf8664fc-0f73-4492-a19a-400b39183ea1",
   "metadata": {},
   "source": [
    "3) Make a subset of your data set if necessary. Think about the historical domain of the series to decide if you need to (if there are irrelevant historical events in your data that would bias your analysis, for example). Also, make sure your set doesn’t include any forecasted data.\n",
    "4) In a markdown cell below the subset (if you make one), explain what logic you were following when selecting your data points.\n",
    "5) Remember that if you subset your data, you’ll need to reset the index, subset, then reset the “Date” column as your index in the new dataframe.\n"
   ]
  },
  {
   "cell_type": "markdown",
   "id": "aa1bfb74-c985-4b27-947a-e2c7c3c1c829",
   "metadata": {},
   "source": [
    "### First, I'll subset data to only relevant years for Avon."
   ]
  },
  {
   "cell_type": "code",
   "execution_count": 29,
   "id": "9ed7e414-0f56-4d67-9412-1d5a2b0a2258",
   "metadata": {},
   "outputs": [],
   "source": [
    "df_Avon = df.loc[(df['Town'] == 'Avon')]"
   ]
  },
  {
   "cell_type": "code",
   "execution_count": 30,
   "id": "634b35eb-d39a-476c-a428-486430d81825",
   "metadata": {},
   "outputs": [
    {
     "data": {
      "text/plain": [
       "(7, 9)"
      ]
     },
     "execution_count": 30,
     "metadata": {},
     "output_type": "execute_result"
    }
   ],
   "source": [
    "df_Avon.shape"
   ]
  },
  {
   "cell_type": "code",
   "execution_count": 31,
   "id": "0ea6c0dd-efc3-401b-9747-cd48c06c8b63",
   "metadata": {},
   "outputs": [
    {
     "data": {
      "text/html": [
       "<div>\n",
       "<style scoped>\n",
       "    .dataframe tbody tr th:only-of-type {\n",
       "        vertical-align: middle;\n",
       "    }\n",
       "\n",
       "    .dataframe tbody tr th {\n",
       "        vertical-align: top;\n",
       "    }\n",
       "\n",
       "    .dataframe thead th {\n",
       "        text-align: right;\n",
       "    }\n",
       "</style>\n",
       "<table border=\"1\" class=\"dataframe\">\n",
       "  <thead>\n",
       "    <tr style=\"text-align: right;\">\n",
       "      <th></th>\n",
       "      <th>Town</th>\n",
       "      <th>Year</th>\n",
       "      <th>Value</th>\n",
       "      <th>Type</th>\n",
       "      <th>County</th>\n",
       "      <th>Population</th>\n",
       "      <th>2011 % Homeowners</th>\n",
       "      <th>2019 # Households</th>\n",
       "      <th>2019 Median Household Income</th>\n",
       "    </tr>\n",
       "  </thead>\n",
       "  <tbody>\n",
       "    <tr>\n",
       "      <th>49</th>\n",
       "      <td>Avon</td>\n",
       "      <td>2021</td>\n",
       "      <td>450000</td>\n",
       "      <td>house_price</td>\n",
       "      <td>Norfolk</td>\n",
       "      <td>NaN</td>\n",
       "      <td>82</td>\n",
       "      <td>1660</td>\n",
       "      <td>73194</td>\n",
       "    </tr>\n",
       "    <tr>\n",
       "      <th>50</th>\n",
       "      <td>Avon</td>\n",
       "      <td>2020</td>\n",
       "      <td>375000</td>\n",
       "      <td>house_price</td>\n",
       "      <td>Norfolk</td>\n",
       "      <td>NaN</td>\n",
       "      <td>82</td>\n",
       "      <td>1660</td>\n",
       "      <td>73194</td>\n",
       "    </tr>\n",
       "    <tr>\n",
       "      <th>51</th>\n",
       "      <td>Avon</td>\n",
       "      <td>2019</td>\n",
       "      <td>362500</td>\n",
       "      <td>house_price</td>\n",
       "      <td>Norfolk</td>\n",
       "      <td>4549.0</td>\n",
       "      <td>82</td>\n",
       "      <td>1660</td>\n",
       "      <td>73194</td>\n",
       "    </tr>\n",
       "    <tr>\n",
       "      <th>52</th>\n",
       "      <td>Avon</td>\n",
       "      <td>2018</td>\n",
       "      <td>349500</td>\n",
       "      <td>house_price</td>\n",
       "      <td>Norfolk</td>\n",
       "      <td>4505.0</td>\n",
       "      <td>82</td>\n",
       "      <td>1660</td>\n",
       "      <td>73194</td>\n",
       "    </tr>\n",
       "    <tr>\n",
       "      <th>53</th>\n",
       "      <td>Avon</td>\n",
       "      <td>2016</td>\n",
       "      <td>312000</td>\n",
       "      <td>house_price</td>\n",
       "      <td>Norfolk</td>\n",
       "      <td>4482.0</td>\n",
       "      <td>82</td>\n",
       "      <td>1660</td>\n",
       "      <td>73194</td>\n",
       "    </tr>\n",
       "    <tr>\n",
       "      <th>54</th>\n",
       "      <td>Avon</td>\n",
       "      <td>2015</td>\n",
       "      <td>262000</td>\n",
       "      <td>house_price</td>\n",
       "      <td>Norfolk</td>\n",
       "      <td>4459.0</td>\n",
       "      <td>82</td>\n",
       "      <td>1660</td>\n",
       "      <td>73194</td>\n",
       "    </tr>\n",
       "    <tr>\n",
       "      <th>55</th>\n",
       "      <td>Avon</td>\n",
       "      <td>2014</td>\n",
       "      <td>272449</td>\n",
       "      <td>house_price</td>\n",
       "      <td>Norfolk</td>\n",
       "      <td>4461.0</td>\n",
       "      <td>82</td>\n",
       "      <td>1660</td>\n",
       "      <td>73194</td>\n",
       "    </tr>\n",
       "  </tbody>\n",
       "</table>\n",
       "</div>"
      ],
      "text/plain": [
       "    Town  Year   Value         Type   County  Population  2011 % Homeowners  \\\n",
       "49  Avon  2021  450000  house_price  Norfolk         NaN                 82   \n",
       "50  Avon  2020  375000  house_price  Norfolk         NaN                 82   \n",
       "51  Avon  2019  362500  house_price  Norfolk      4549.0                 82   \n",
       "52  Avon  2018  349500  house_price  Norfolk      4505.0                 82   \n",
       "53  Avon  2016  312000  house_price  Norfolk      4482.0                 82   \n",
       "54  Avon  2015  262000  house_price  Norfolk      4459.0                 82   \n",
       "55  Avon  2014  272449  house_price  Norfolk      4461.0                 82   \n",
       "\n",
       "    2019 # Households  2019 Median Household Income  \n",
       "49               1660                         73194  \n",
       "50               1660                         73194  \n",
       "51               1660                         73194  \n",
       "52               1660                         73194  \n",
       "53               1660                         73194  \n",
       "54               1660                         73194  \n",
       "55               1660                         73194  "
      ]
     },
     "execution_count": 31,
     "metadata": {},
     "output_type": "execute_result"
    }
   ],
   "source": [
    "df_Avon.head(7)"
   ]
  },
  {
   "cell_type": "markdown",
   "id": "e4dfb395-f650-4b70-808e-77fbb5539f63",
   "metadata": {},
   "source": [
    "### This is leftover reference from my screwups"
   ]
  },
  {
   "cell_type": "code",
   "execution_count": 78,
   "id": "09afc4a6-e160-453a-9856-21e6ff09c4bb",
   "metadata": {},
   "outputs": [],
   "source": [
    "from datetime import datetime\n",
    "\n",
    "df_Avon['Year'] = pd.to_datetime(df_Avon['Year']) # Create a datetime column from \"Year.\"\""
   ]
  },
  {
   "cell_type": "code",
   "execution_count": 79,
   "id": "aa977550-bdef-4fbc-9052-c21c60cd667f",
   "metadata": {},
   "outputs": [
    {
     "data": {
      "text/html": [
       "<div>\n",
       "<style scoped>\n",
       "    .dataframe tbody tr th:only-of-type {\n",
       "        vertical-align: middle;\n",
       "    }\n",
       "\n",
       "    .dataframe tbody tr th {\n",
       "        vertical-align: top;\n",
       "    }\n",
       "\n",
       "    .dataframe thead th {\n",
       "        text-align: right;\n",
       "    }\n",
       "</style>\n",
       "<table border=\"1\" class=\"dataframe\">\n",
       "  <thead>\n",
       "    <tr style=\"text-align: right;\">\n",
       "      <th></th>\n",
       "      <th>Year</th>\n",
       "      <th>Value</th>\n",
       "    </tr>\n",
       "  </thead>\n",
       "  <tbody>\n",
       "    <tr>\n",
       "      <th>49</th>\n",
       "      <td>1970-01-01 00:00:00.000002021</td>\n",
       "      <td>450000</td>\n",
       "    </tr>\n",
       "    <tr>\n",
       "      <th>50</th>\n",
       "      <td>1970-01-01 00:00:00.000002020</td>\n",
       "      <td>375000</td>\n",
       "    </tr>\n",
       "    <tr>\n",
       "      <th>51</th>\n",
       "      <td>1970-01-01 00:00:00.000002019</td>\n",
       "      <td>362500</td>\n",
       "    </tr>\n",
       "    <tr>\n",
       "      <th>52</th>\n",
       "      <td>1970-01-01 00:00:00.000002018</td>\n",
       "      <td>349500</td>\n",
       "    </tr>\n",
       "    <tr>\n",
       "      <th>53</th>\n",
       "      <td>1970-01-01 00:00:00.000002016</td>\n",
       "      <td>312000</td>\n",
       "    </tr>\n",
       "  </tbody>\n",
       "</table>\n",
       "</div>"
      ],
      "text/plain": [
       "                            Year   Value\n",
       "49 1970-01-01 00:00:00.000002021  450000\n",
       "50 1970-01-01 00:00:00.000002020  375000\n",
       "51 1970-01-01 00:00:00.000002019  362500\n",
       "52 1970-01-01 00:00:00.000002018  349500\n",
       "53 1970-01-01 00:00:00.000002016  312000"
      ]
     },
     "execution_count": 79,
     "metadata": {},
     "output_type": "execute_result"
    }
   ],
   "source": [
    "df_Avon.head()"
   ]
  },
  {
   "cell_type": "markdown",
   "id": "942fa862-34c1-4105-84fa-8c126cfad60b",
   "metadata": {},
   "source": [
    "### I think I need to add arbitrary date info for this method to work. I'm going to reimport and name the Avon data and go through the cleaning again."
   ]
  },
  {
   "cell_type": "code",
   "execution_count": 81,
   "id": "9b407177-62d2-412f-82bc-a6606d436ed7",
   "metadata": {},
   "outputs": [],
   "source": [
    "dfA = df.loc[(df['Town'] == 'Avon')]"
   ]
  },
  {
   "cell_type": "code",
   "execution_count": 83,
   "id": "2e913fe3-51d0-4ff0-9af0-337104ac6d68",
   "metadata": {},
   "outputs": [
    {
     "data": {
      "text/html": [
       "<div>\n",
       "<style scoped>\n",
       "    .dataframe tbody tr th:only-of-type {\n",
       "        vertical-align: middle;\n",
       "    }\n",
       "\n",
       "    .dataframe tbody tr th {\n",
       "        vertical-align: top;\n",
       "    }\n",
       "\n",
       "    .dataframe thead th {\n",
       "        text-align: right;\n",
       "    }\n",
       "</style>\n",
       "<table border=\"1\" class=\"dataframe\">\n",
       "  <thead>\n",
       "    <tr style=\"text-align: right;\">\n",
       "      <th></th>\n",
       "      <th>Town</th>\n",
       "      <th>Year</th>\n",
       "      <th>Value</th>\n",
       "      <th>Type</th>\n",
       "      <th>County</th>\n",
       "      <th>Population</th>\n",
       "      <th>2011 % Homeowners</th>\n",
       "      <th>2019 # Households</th>\n",
       "      <th>2019 Median Household Income</th>\n",
       "    </tr>\n",
       "  </thead>\n",
       "  <tbody>\n",
       "    <tr>\n",
       "      <th>49</th>\n",
       "      <td>Avon</td>\n",
       "      <td>2021</td>\n",
       "      <td>450000</td>\n",
       "      <td>house_price</td>\n",
       "      <td>Norfolk</td>\n",
       "      <td>NaN</td>\n",
       "      <td>82</td>\n",
       "      <td>1660</td>\n",
       "      <td>73194</td>\n",
       "    </tr>\n",
       "    <tr>\n",
       "      <th>50</th>\n",
       "      <td>Avon</td>\n",
       "      <td>2020</td>\n",
       "      <td>375000</td>\n",
       "      <td>house_price</td>\n",
       "      <td>Norfolk</td>\n",
       "      <td>NaN</td>\n",
       "      <td>82</td>\n",
       "      <td>1660</td>\n",
       "      <td>73194</td>\n",
       "    </tr>\n",
       "    <tr>\n",
       "      <th>51</th>\n",
       "      <td>Avon</td>\n",
       "      <td>2019</td>\n",
       "      <td>362500</td>\n",
       "      <td>house_price</td>\n",
       "      <td>Norfolk</td>\n",
       "      <td>4549.0</td>\n",
       "      <td>82</td>\n",
       "      <td>1660</td>\n",
       "      <td>73194</td>\n",
       "    </tr>\n",
       "    <tr>\n",
       "      <th>52</th>\n",
       "      <td>Avon</td>\n",
       "      <td>2018</td>\n",
       "      <td>349500</td>\n",
       "      <td>house_price</td>\n",
       "      <td>Norfolk</td>\n",
       "      <td>4505.0</td>\n",
       "      <td>82</td>\n",
       "      <td>1660</td>\n",
       "      <td>73194</td>\n",
       "    </tr>\n",
       "    <tr>\n",
       "      <th>53</th>\n",
       "      <td>Avon</td>\n",
       "      <td>2016</td>\n",
       "      <td>312000</td>\n",
       "      <td>house_price</td>\n",
       "      <td>Norfolk</td>\n",
       "      <td>4482.0</td>\n",
       "      <td>82</td>\n",
       "      <td>1660</td>\n",
       "      <td>73194</td>\n",
       "    </tr>\n",
       "    <tr>\n",
       "      <th>54</th>\n",
       "      <td>Avon</td>\n",
       "      <td>2015</td>\n",
       "      <td>262000</td>\n",
       "      <td>house_price</td>\n",
       "      <td>Norfolk</td>\n",
       "      <td>4459.0</td>\n",
       "      <td>82</td>\n",
       "      <td>1660</td>\n",
       "      <td>73194</td>\n",
       "    </tr>\n",
       "    <tr>\n",
       "      <th>55</th>\n",
       "      <td>Avon</td>\n",
       "      <td>2014</td>\n",
       "      <td>272449</td>\n",
       "      <td>house_price</td>\n",
       "      <td>Norfolk</td>\n",
       "      <td>4461.0</td>\n",
       "      <td>82</td>\n",
       "      <td>1660</td>\n",
       "      <td>73194</td>\n",
       "    </tr>\n",
       "  </tbody>\n",
       "</table>\n",
       "</div>"
      ],
      "text/plain": [
       "    Town  Year   Value         Type   County  Population  2011 % Homeowners  \\\n",
       "49  Avon  2021  450000  house_price  Norfolk         NaN                 82   \n",
       "50  Avon  2020  375000  house_price  Norfolk         NaN                 82   \n",
       "51  Avon  2019  362500  house_price  Norfolk      4549.0                 82   \n",
       "52  Avon  2018  349500  house_price  Norfolk      4505.0                 82   \n",
       "53  Avon  2016  312000  house_price  Norfolk      4482.0                 82   \n",
       "54  Avon  2015  262000  house_price  Norfolk      4459.0                 82   \n",
       "55  Avon  2014  272449  house_price  Norfolk      4461.0                 82   \n",
       "\n",
       "    2019 # Households  2019 Median Household Income  \n",
       "49               1660                         73194  \n",
       "50               1660                         73194  \n",
       "51               1660                         73194  \n",
       "52               1660                         73194  \n",
       "53               1660                         73194  \n",
       "54               1660                         73194  \n",
       "55               1660                         73194  "
      ]
     },
     "execution_count": 83,
     "metadata": {},
     "output_type": "execute_result"
    }
   ],
   "source": [
    "dfA.head(10)"
   ]
  },
  {
   "cell_type": "code",
   "execution_count": 86,
   "id": "77400d07-9eca-49dd-bf69-bf8165c6fe42",
   "metadata": {},
   "outputs": [],
   "source": [
    "### Dropping columns I don't need\n",
    "dfA_1 = dfA.drop(columns = ['Town','Type','County','Population','2011 % Homeowners','2019 # Households','2019 Median Household Income'])"
   ]
  },
  {
   "cell_type": "code",
   "execution_count": 87,
   "id": "35d5297f-9f61-4c9f-8f2d-95416fb791c3",
   "metadata": {},
   "outputs": [
    {
     "data": {
      "text/html": [
       "<div>\n",
       "<style scoped>\n",
       "    .dataframe tbody tr th:only-of-type {\n",
       "        vertical-align: middle;\n",
       "    }\n",
       "\n",
       "    .dataframe tbody tr th {\n",
       "        vertical-align: top;\n",
       "    }\n",
       "\n",
       "    .dataframe thead th {\n",
       "        text-align: right;\n",
       "    }\n",
       "</style>\n",
       "<table border=\"1\" class=\"dataframe\">\n",
       "  <thead>\n",
       "    <tr style=\"text-align: right;\">\n",
       "      <th></th>\n",
       "      <th>Year</th>\n",
       "      <th>Value</th>\n",
       "    </tr>\n",
       "  </thead>\n",
       "  <tbody>\n",
       "    <tr>\n",
       "      <th>49</th>\n",
       "      <td>2021</td>\n",
       "      <td>450000</td>\n",
       "    </tr>\n",
       "    <tr>\n",
       "      <th>50</th>\n",
       "      <td>2020</td>\n",
       "      <td>375000</td>\n",
       "    </tr>\n",
       "    <tr>\n",
       "      <th>51</th>\n",
       "      <td>2019</td>\n",
       "      <td>362500</td>\n",
       "    </tr>\n",
       "    <tr>\n",
       "      <th>52</th>\n",
       "      <td>2018</td>\n",
       "      <td>349500</td>\n",
       "    </tr>\n",
       "    <tr>\n",
       "      <th>53</th>\n",
       "      <td>2016</td>\n",
       "      <td>312000</td>\n",
       "    </tr>\n",
       "    <tr>\n",
       "      <th>54</th>\n",
       "      <td>2015</td>\n",
       "      <td>262000</td>\n",
       "    </tr>\n",
       "    <tr>\n",
       "      <th>55</th>\n",
       "      <td>2014</td>\n",
       "      <td>272449</td>\n",
       "    </tr>\n",
       "  </tbody>\n",
       "</table>\n",
       "</div>"
      ],
      "text/plain": [
       "    Year   Value\n",
       "49  2021  450000\n",
       "50  2020  375000\n",
       "51  2019  362500\n",
       "52  2018  349500\n",
       "53  2016  312000\n",
       "54  2015  262000\n",
       "55  2014  272449"
      ]
     },
     "execution_count": 87,
     "metadata": {},
     "output_type": "execute_result"
    }
   ],
   "source": [
    "dfA_1.head(10)"
   ]
  },
  {
   "cell_type": "markdown",
   "id": "15ffea47-8dd2-4a6d-8616-8a76c7eb2558",
   "metadata": {},
   "source": [
    "### From here, to fix the year so that it correctly transposes to datetime, I could export/excel/import with the correct dates, I could also just create a new df, due to the limited info. I haven't done that before, and want to try. I also need to add in 2017 data, which will be an average of the 2016, 2018 values = 330750"
   ]
  },
  {
   "cell_type": "code",
   "execution_count": 88,
   "id": "512e489a-43d7-4505-92cf-6585ad1e312f",
   "metadata": {},
   "outputs": [],
   "source": [
    "fixed = {'Year': ['01-01-2014', '01-01-2015', '01-01-2016', '01-01-2017','01-01-2018','01-01-2019','01-01-2020','01-01-2021'],\n",
    "        'Value': [272449, 262000, 312000, 330750, 349500, 362500, 375000, 450000]}\n",
    "df_fix = pd.DataFrame(fixed)"
   ]
  },
  {
   "cell_type": "code",
   "execution_count": 89,
   "id": "877f8288-1486-4230-af82-0a8c0d1d8003",
   "metadata": {},
   "outputs": [
    {
     "data": {
      "text/html": [
       "<div>\n",
       "<style scoped>\n",
       "    .dataframe tbody tr th:only-of-type {\n",
       "        vertical-align: middle;\n",
       "    }\n",
       "\n",
       "    .dataframe tbody tr th {\n",
       "        vertical-align: top;\n",
       "    }\n",
       "\n",
       "    .dataframe thead th {\n",
       "        text-align: right;\n",
       "    }\n",
       "</style>\n",
       "<table border=\"1\" class=\"dataframe\">\n",
       "  <thead>\n",
       "    <tr style=\"text-align: right;\">\n",
       "      <th></th>\n",
       "      <th>Year</th>\n",
       "      <th>Value</th>\n",
       "    </tr>\n",
       "  </thead>\n",
       "  <tbody>\n",
       "    <tr>\n",
       "      <th>0</th>\n",
       "      <td>01-01-2014</td>\n",
       "      <td>272449</td>\n",
       "    </tr>\n",
       "    <tr>\n",
       "      <th>1</th>\n",
       "      <td>01-01-2015</td>\n",
       "      <td>262000</td>\n",
       "    </tr>\n",
       "    <tr>\n",
       "      <th>2</th>\n",
       "      <td>01-01-2016</td>\n",
       "      <td>312000</td>\n",
       "    </tr>\n",
       "    <tr>\n",
       "      <th>3</th>\n",
       "      <td>01-01-2017</td>\n",
       "      <td>330750</td>\n",
       "    </tr>\n",
       "    <tr>\n",
       "      <th>4</th>\n",
       "      <td>01-01-2018</td>\n",
       "      <td>349500</td>\n",
       "    </tr>\n",
       "    <tr>\n",
       "      <th>5</th>\n",
       "      <td>01-01-2019</td>\n",
       "      <td>362500</td>\n",
       "    </tr>\n",
       "    <tr>\n",
       "      <th>6</th>\n",
       "      <td>01-01-2020</td>\n",
       "      <td>375000</td>\n",
       "    </tr>\n",
       "    <tr>\n",
       "      <th>7</th>\n",
       "      <td>01-01-2021</td>\n",
       "      <td>450000</td>\n",
       "    </tr>\n",
       "  </tbody>\n",
       "</table>\n",
       "</div>"
      ],
      "text/plain": [
       "         Year   Value\n",
       "0  01-01-2014  272449\n",
       "1  01-01-2015  262000\n",
       "2  01-01-2016  312000\n",
       "3  01-01-2017  330750\n",
       "4  01-01-2018  349500\n",
       "5  01-01-2019  362500\n",
       "6  01-01-2020  375000\n",
       "7  01-01-2021  450000"
      ]
     },
     "execution_count": 89,
     "metadata": {},
     "output_type": "execute_result"
    }
   ],
   "source": [
    "df_fix.head(10)"
   ]
  },
  {
   "cell_type": "markdown",
   "id": "9b9a6106-c818-4afd-aac5-6e5a57fe1742",
   "metadata": {},
   "source": [
    "### Now that I have days/months in my date, let's see if this works"
   ]
  },
  {
   "cell_type": "code",
   "execution_count": 91,
   "id": "7449ab6e-d82e-40a7-9262-7ae3197cec9b",
   "metadata": {},
   "outputs": [
    {
     "ename": "KeyError",
     "evalue": "'Year'",
     "output_type": "error",
     "traceback": [
      "\u001b[0;31m---------------------------------------------------------------------------\u001b[0m",
      "\u001b[0;31mKeyError\u001b[0m                                  Traceback (most recent call last)",
      "File \u001b[0;32m~/anaconda3/lib/python3.11/site-packages/pandas/core/indexes/base.py:3653\u001b[0m, in \u001b[0;36mIndex.get_loc\u001b[0;34m(self, key)\u001b[0m\n\u001b[1;32m   3652\u001b[0m \u001b[38;5;28;01mtry\u001b[39;00m:\n\u001b[0;32m-> 3653\u001b[0m     \u001b[38;5;28;01mreturn\u001b[39;00m \u001b[38;5;28mself\u001b[39m\u001b[38;5;241m.\u001b[39m_engine\u001b[38;5;241m.\u001b[39mget_loc(casted_key)\n\u001b[1;32m   3654\u001b[0m \u001b[38;5;28;01mexcept\u001b[39;00m \u001b[38;5;167;01mKeyError\u001b[39;00m \u001b[38;5;28;01mas\u001b[39;00m err:\n",
      "File \u001b[0;32m~/anaconda3/lib/python3.11/site-packages/pandas/_libs/index.pyx:147\u001b[0m, in \u001b[0;36mpandas._libs.index.IndexEngine.get_loc\u001b[0;34m()\u001b[0m\n",
      "File \u001b[0;32m~/anaconda3/lib/python3.11/site-packages/pandas/_libs/index.pyx:176\u001b[0m, in \u001b[0;36mpandas._libs.index.IndexEngine.get_loc\u001b[0;34m()\u001b[0m\n",
      "File \u001b[0;32mpandas/_libs/hashtable_class_helper.pxi:7080\u001b[0m, in \u001b[0;36mpandas._libs.hashtable.PyObjectHashTable.get_item\u001b[0;34m()\u001b[0m\n",
      "File \u001b[0;32mpandas/_libs/hashtable_class_helper.pxi:7088\u001b[0m, in \u001b[0;36mpandas._libs.hashtable.PyObjectHashTable.get_item\u001b[0;34m()\u001b[0m\n",
      "\u001b[0;31mKeyError\u001b[0m: 'Year'",
      "\nThe above exception was the direct cause of the following exception:\n",
      "\u001b[0;31mKeyError\u001b[0m                                  Traceback (most recent call last)",
      "Cell \u001b[0;32mIn[91], line 3\u001b[0m\n\u001b[1;32m      1\u001b[0m \u001b[38;5;28;01mfrom\u001b[39;00m \u001b[38;5;21;01mdatetime\u001b[39;00m \u001b[38;5;28;01mimport\u001b[39;00m datetime\n\u001b[0;32m----> 3\u001b[0m df_fix[\u001b[38;5;124m'\u001b[39m\u001b[38;5;124mYear\u001b[39m\u001b[38;5;124m'\u001b[39m] \u001b[38;5;241m=\u001b[39m pd\u001b[38;5;241m.\u001b[39mto_datetime(df_fix[\u001b[38;5;124m'\u001b[39m\u001b[38;5;124mYear\u001b[39m\u001b[38;5;124m'\u001b[39m]) \u001b[38;5;66;03m# Create a datetime column from \"Year.\"\"\u001b[39;00m\n\u001b[1;32m      4\u001b[0m df_fix \u001b[38;5;241m=\u001b[39m df_fix\u001b[38;5;241m.\u001b[39mset_index(\u001b[38;5;124m'\u001b[39m\u001b[38;5;124mYear\u001b[39m\u001b[38;5;124m'\u001b[39m) \u001b[38;5;66;03m# Set the datetime as the index of the dataframe.\u001b[39;00m\n\u001b[1;32m      5\u001b[0m df_fix\u001b[38;5;241m.\u001b[39mhead(\u001b[38;5;241m10\u001b[39m)\n",
      "File \u001b[0;32m~/anaconda3/lib/python3.11/site-packages/pandas/core/frame.py:3761\u001b[0m, in \u001b[0;36mDataFrame.__getitem__\u001b[0;34m(self, key)\u001b[0m\n\u001b[1;32m   3759\u001b[0m \u001b[38;5;28;01mif\u001b[39;00m \u001b[38;5;28mself\u001b[39m\u001b[38;5;241m.\u001b[39mcolumns\u001b[38;5;241m.\u001b[39mnlevels \u001b[38;5;241m>\u001b[39m \u001b[38;5;241m1\u001b[39m:\n\u001b[1;32m   3760\u001b[0m     \u001b[38;5;28;01mreturn\u001b[39;00m \u001b[38;5;28mself\u001b[39m\u001b[38;5;241m.\u001b[39m_getitem_multilevel(key)\n\u001b[0;32m-> 3761\u001b[0m indexer \u001b[38;5;241m=\u001b[39m \u001b[38;5;28mself\u001b[39m\u001b[38;5;241m.\u001b[39mcolumns\u001b[38;5;241m.\u001b[39mget_loc(key)\n\u001b[1;32m   3762\u001b[0m \u001b[38;5;28;01mif\u001b[39;00m is_integer(indexer):\n\u001b[1;32m   3763\u001b[0m     indexer \u001b[38;5;241m=\u001b[39m [indexer]\n",
      "File \u001b[0;32m~/anaconda3/lib/python3.11/site-packages/pandas/core/indexes/base.py:3655\u001b[0m, in \u001b[0;36mIndex.get_loc\u001b[0;34m(self, key)\u001b[0m\n\u001b[1;32m   3653\u001b[0m     \u001b[38;5;28;01mreturn\u001b[39;00m \u001b[38;5;28mself\u001b[39m\u001b[38;5;241m.\u001b[39m_engine\u001b[38;5;241m.\u001b[39mget_loc(casted_key)\n\u001b[1;32m   3654\u001b[0m \u001b[38;5;28;01mexcept\u001b[39;00m \u001b[38;5;167;01mKeyError\u001b[39;00m \u001b[38;5;28;01mas\u001b[39;00m err:\n\u001b[0;32m-> 3655\u001b[0m     \u001b[38;5;28;01mraise\u001b[39;00m \u001b[38;5;167;01mKeyError\u001b[39;00m(key) \u001b[38;5;28;01mfrom\u001b[39;00m \u001b[38;5;21;01merr\u001b[39;00m\n\u001b[1;32m   3656\u001b[0m \u001b[38;5;28;01mexcept\u001b[39;00m \u001b[38;5;167;01mTypeError\u001b[39;00m:\n\u001b[1;32m   3657\u001b[0m     \u001b[38;5;66;03m# If we have a listlike key, _check_indexing_error will raise\u001b[39;00m\n\u001b[1;32m   3658\u001b[0m     \u001b[38;5;66;03m#  InvalidIndexError. Otherwise we fall through and re-raise\u001b[39;00m\n\u001b[1;32m   3659\u001b[0m     \u001b[38;5;66;03m#  the TypeError.\u001b[39;00m\n\u001b[1;32m   3660\u001b[0m     \u001b[38;5;28mself\u001b[39m\u001b[38;5;241m.\u001b[39m_check_indexing_error(key)\n",
      "\u001b[0;31mKeyError\u001b[0m: 'Year'"
     ]
    }
   ],
   "source": [
    "from datetime import datetime\n",
    "\n",
    "df_fix['Year'] = pd.to_datetime(df_fix['Year']) # Create a datetime column from \"Year.\"\"\n",
    "df_fix = df_fix.set_index('Year') # Set the datetime as the index of the dataframe."
   ]
  },
  {
   "cell_type": "code",
   "execution_count": 92,
   "id": "7f451dae-f223-4ef2-90b3-fc792c24c1ff",
   "metadata": {},
   "outputs": [
    {
     "data": {
      "text/html": [
       "<div>\n",
       "<style scoped>\n",
       "    .dataframe tbody tr th:only-of-type {\n",
       "        vertical-align: middle;\n",
       "    }\n",
       "\n",
       "    .dataframe tbody tr th {\n",
       "        vertical-align: top;\n",
       "    }\n",
       "\n",
       "    .dataframe thead th {\n",
       "        text-align: right;\n",
       "    }\n",
       "</style>\n",
       "<table border=\"1\" class=\"dataframe\">\n",
       "  <thead>\n",
       "    <tr style=\"text-align: right;\">\n",
       "      <th></th>\n",
       "      <th>Value</th>\n",
       "    </tr>\n",
       "    <tr>\n",
       "      <th>Year</th>\n",
       "      <th></th>\n",
       "    </tr>\n",
       "  </thead>\n",
       "  <tbody>\n",
       "    <tr>\n",
       "      <th>2014-01-01</th>\n",
       "      <td>272449</td>\n",
       "    </tr>\n",
       "    <tr>\n",
       "      <th>2015-01-01</th>\n",
       "      <td>262000</td>\n",
       "    </tr>\n",
       "    <tr>\n",
       "      <th>2016-01-01</th>\n",
       "      <td>312000</td>\n",
       "    </tr>\n",
       "    <tr>\n",
       "      <th>2017-01-01</th>\n",
       "      <td>330750</td>\n",
       "    </tr>\n",
       "    <tr>\n",
       "      <th>2018-01-01</th>\n",
       "      <td>349500</td>\n",
       "    </tr>\n",
       "    <tr>\n",
       "      <th>2019-01-01</th>\n",
       "      <td>362500</td>\n",
       "    </tr>\n",
       "    <tr>\n",
       "      <th>2020-01-01</th>\n",
       "      <td>375000</td>\n",
       "    </tr>\n",
       "    <tr>\n",
       "      <th>2021-01-01</th>\n",
       "      <td>450000</td>\n",
       "    </tr>\n",
       "  </tbody>\n",
       "</table>\n",
       "</div>"
      ],
      "text/plain": [
       "             Value\n",
       "Year              \n",
       "2014-01-01  272449\n",
       "2015-01-01  262000\n",
       "2016-01-01  312000\n",
       "2017-01-01  330750\n",
       "2018-01-01  349500\n",
       "2019-01-01  362500\n",
       "2020-01-01  375000\n",
       "2021-01-01  450000"
      ]
     },
     "execution_count": 92,
     "metadata": {},
     "output_type": "execute_result"
    }
   ],
   "source": [
    "df_fix.head(10)"
   ]
  },
  {
   "cell_type": "markdown",
   "id": "50d28782-b5e1-4efa-8e9b-c93f6dc1fdd2",
   "metadata": {},
   "source": [
    "### I subsetted my df of housing prices down to a specific municipality that met my research conditions, and that had the most data points for a time series (Year) analysis. I want to see the trend in home value to potentially predict if my home value in that area would go up."
   ]
  },
  {
   "cell_type": "code",
   "execution_count": 93,
   "id": "0947eead-fb45-4cbd-9fbd-3c2ac54a76f4",
   "metadata": {},
   "outputs": [
    {
     "data": {
      "text/plain": [
       "[<matplotlib.lines.Line2D at 0x14782d950>]"
      ]
     },
     "execution_count": 93,
     "metadata": {},
     "output_type": "execute_result"
    },
    {
     "data": {
      "image/png": "[encoded data removed]",
      "text/plain": [
       "<Figure size 1500x500 with 1 Axes>"
      ]
     },
     "metadata": {},
     "output_type": "display_data"
    }
   ],
   "source": [
    "plt.figure(figsize=(15,5), dpi=100)\n",
    "plt.plot(df_fix)"
   ]
  },
  {
   "cell_type": "markdown",
   "id": "245621a1-cdd3-4cd6-adf7-4def46ef2a7d",
   "metadata": {},
   "source": [
    "5) Create a line chart of your data.\n",
    "6) Decompose the data’s components.\n",
    "7) Analyze the results from the plot in a markdown cell."
   ]
  },
  {
   "cell_type": "markdown",
   "id": "e1504667-9d03-4fa2-92cb-27c747b92538",
   "metadata": {},
   "source": [
    "### Decomposition"
   ]
  },
  {
   "cell_type": "code",
   "execution_count": 94,
   "id": "af7e2cbf-51e7-48ee-a1b9-33d0d6dc9f60",
   "metadata": {},
   "outputs": [],
   "source": [
    "# Decompose the time series using an additive model\n",
    "\n",
    "decomposition = sm.tsa.seasonal_decompose(df_fix, model='additive')"
   ]
  },
  {
   "cell_type": "code",
   "execution_count": 95,
   "id": "ac822895-be93-4c7c-b62f-71a31dc64ec1",
   "metadata": {},
   "outputs": [],
   "source": [
    "from pylab import rcParams # This will define a fixed size for all special charts.\n",
    "\n",
    "rcParams['figure.figsize'] = 18, 7"
   ]
  },
  {
   "cell_type": "code",
   "execution_count": 96,
   "id": "5723a34d-8f4c-4ee9-8157-29729261e11e",
   "metadata": {},
   "outputs": [
    {
     "data": {
      "image/png": "[encoded data removed]",
      "text/plain": [
       "<Figure size 1800x700 with 4 Axes>"
      ]
     },
     "metadata": {},
     "output_type": "display_data"
    }
   ],
   "source": [
    "# Plot the separate components\n",
    "\n",
    "decomposition.plot()\n",
    "plt.show()"
   ]
  },
  {
   "cell_type": "markdown",
   "id": "db265ae6-ff6e-4416-af12-8580c5fa40f6",
   "metadata": {},
   "source": [
    "8) Conduct a Dickey-Fuller test to check for stationarity.\n",
    "9) Interpret the results in a markdown cell and reference your null hypothesis.\n",
    "10) If your data isn’t stationary, conduct a round of differencing on it and repeat step 6.\n",
    "11) If your data still isn’t stationary, perform another round of differencing and repeat step 6.\n",
    "12) Check your data’s autocorrelations."
   ]
  },
  {
   "cell_type": "code",
   "execution_count": 97,
   "id": "ec0ad503-917a-457d-a4ee-bbdcc9f38a44",
   "metadata": {},
   "outputs": [
    {
     "name": "stdout",
     "output_type": "stream",
     "text": [
      "Dickey-Fuller Stationarity test:\n",
      "Test Statistic                 4.088420\n",
      "p-value                        1.000000\n",
      "Number of Lags Used            2.000000\n",
      "Number of Observations Used    5.000000\n",
      "Critical Value (1%)           -6.045114\n",
      "Critical Value (5%)           -3.929280\n",
      "Critical Value (10%)          -2.986810\n",
      "dtype: float64\n"
     ]
    }
   ],
   "source": [
    "# The adfuller() function will import from the model from statsmodels for the test; however, running it will only return \n",
    "# an array of numbers. This is why you need to also define a function that prints the correct output from that array.\n",
    "\n",
    "from statsmodels.tsa.stattools import adfuller # Import the adfuller() function\n",
    "\n",
    "def dickey_fuller(timeseries): # Define the function\n",
    "    # Perform the Dickey-Fuller test:\n",
    "    print ('Dickey-Fuller Stationarity test:')\n",
    "    test = adfuller(timeseries, autolag='AIC')\n",
    "    result = pd.Series(test[0:4], index=['Test Statistic','p-value','Number of Lags Used','Number of Observations Used'])\n",
    "    for key,value in test[4].items():\n",
    "       result['Critical Value (%s)'%key] = value\n",
    "    print (result)\n",
    "\n",
    "# Apply the test using the function on the time series\n",
    "dickey_fuller(df_fix['Value'])"
   ]
  },
  {
   "cell_type": "code",
   "execution_count": 98,
   "id": "823d9267-1a8e-49ea-b1a1-b1f69757ee8b",
   "metadata": {},
   "outputs": [
    {
     "data": {
      "image/png": "[encoded data removed]",
      "text/plain": [
       "<Figure size 1800x700 with 1 Axes>"
      ]
     },
     "metadata": {},
     "output_type": "display_data"
    }
   ],
   "source": [
    "# Check out a plot of autocorrelations\n",
    "\n",
    "from statsmodels.graphics.tsaplots import plot_acf, plot_pacf # Here, you import the autocorrelation and partial correlation plots\n",
    "\n",
    "plot_acf(df_fix)\n",
    "plt.show()"
   ]
  },
  {
   "cell_type": "markdown",
   "id": "75e29bc4-5b9c-4aeb-946d-0afa64a6f13f",
   "metadata": {},
   "source": [
    "### My test statistic is significantly larger than all critical values, so I can't reject the null. This means that my data is non-stationary. However, the autocorrelation plot suggests that this may not be accurate. Because there are so few data points, and there appears to be a visible trend, we'll choose to follow the dickey-fuller results."
   ]
  },
  {
   "cell_type": "markdown",
   "id": "01ce58c3-fd80-4fb1-ac97-2fa163d6102a",
   "metadata": {},
   "source": [
    "## Stationarizing the data with data_diff = data - data.shift(1)"
   ]
  },
  {
   "cell_type": "code",
   "execution_count": 99,
   "id": "71ce03dc-28c2-47cc-b980-fe5593261f68",
   "metadata": {},
   "outputs": [],
   "source": [
    "data_dif = df_fix - df_fix.shift(1)"
   ]
  },
  {
   "cell_type": "code",
   "execution_count": 100,
   "id": "a6078708-8104-4a1d-b7b3-bd80f1e30d36",
   "metadata": {},
   "outputs": [
    {
     "data": {
      "text/plain": [
       "[<matplotlib.lines.Line2D at 0x147affc50>]"
      ]
     },
     "execution_count": 100,
     "metadata": {},
     "output_type": "execute_result"
    },
    {
     "data": {
      "image/png": "[encoded data removed]",
      "text/plain": [
       "<Figure size 1500x500 with 1 Axes>"
      ]
     },
     "metadata": {},
     "output_type": "display_data"
    }
   ],
   "source": [
    "plt.figure(figsize=(15,5), dpi=100)\n",
    "plt.plot(data_dif)"
   ]
  },
  {
   "cell_type": "code",
   "execution_count": 102,
   "id": "70e2e450-1397-45f5-a93f-1dc72d839819",
   "metadata": {},
   "outputs": [
    {
     "data": {
      "text/html": [
       "<div>\n",
       "<style scoped>\n",
       "    .dataframe tbody tr th:only-of-type {\n",
       "        vertical-align: middle;\n",
       "    }\n",
       "\n",
       "    .dataframe tbody tr th {\n",
       "        vertical-align: top;\n",
       "    }\n",
       "\n",
       "    .dataframe thead th {\n",
       "        text-align: right;\n",
       "    }\n",
       "</style>\n",
       "<table border=\"1\" class=\"dataframe\">\n",
       "  <thead>\n",
       "    <tr style=\"text-align: right;\">\n",
       "      <th></th>\n",
       "      <th>Value</th>\n",
       "    </tr>\n",
       "    <tr>\n",
       "      <th>Year</th>\n",
       "      <th></th>\n",
       "    </tr>\n",
       "  </thead>\n",
       "  <tbody>\n",
       "    <tr>\n",
       "      <th>2014-01-01</th>\n",
       "      <td>NaN</td>\n",
       "    </tr>\n",
       "    <tr>\n",
       "      <th>2015-01-01</th>\n",
       "      <td>-10449.0</td>\n",
       "    </tr>\n",
       "    <tr>\n",
       "      <th>2016-01-01</th>\n",
       "      <td>50000.0</td>\n",
       "    </tr>\n",
       "    <tr>\n",
       "      <th>2017-01-01</th>\n",
       "      <td>18750.0</td>\n",
       "    </tr>\n",
       "    <tr>\n",
       "      <th>2018-01-01</th>\n",
       "      <td>18750.0</td>\n",
       "    </tr>\n",
       "    <tr>\n",
       "      <th>2019-01-01</th>\n",
       "      <td>13000.0</td>\n",
       "    </tr>\n",
       "    <tr>\n",
       "      <th>2020-01-01</th>\n",
       "      <td>12500.0</td>\n",
       "    </tr>\n",
       "    <tr>\n",
       "      <th>2021-01-01</th>\n",
       "      <td>75000.0</td>\n",
       "    </tr>\n",
       "  </tbody>\n",
       "</table>\n",
       "</div>"
      ],
      "text/plain": [
       "              Value\n",
       "Year               \n",
       "2014-01-01      NaN\n",
       "2015-01-01 -10449.0\n",
       "2016-01-01  50000.0\n",
       "2017-01-01  18750.0\n",
       "2018-01-01  18750.0\n",
       "2019-01-01  13000.0\n",
       "2020-01-01  12500.0\n",
       "2021-01-01  75000.0"
      ]
     },
     "execution_count": 102,
     "metadata": {},
     "output_type": "execute_result"
    }
   ],
   "source": [
    "data_dif.head(10)"
   ]
  },
  {
   "cell_type": "code",
   "execution_count": 106,
   "id": "d957c6d7-1493-4505-81dc-ed5d32cd1352",
   "metadata": {
    "scrolled": true
   },
   "outputs": [
    {
     "data": {
      "text/html": [
       "<div>\n",
       "<style scoped>\n",
       "    .dataframe tbody tr th:only-of-type {\n",
       "        vertical-align: middle;\n",
       "    }\n",
       "\n",
       "    .dataframe tbody tr th {\n",
       "        vertical-align: top;\n",
       "    }\n",
       "\n",
       "    .dataframe thead th {\n",
       "        text-align: right;\n",
       "    }\n",
       "</style>\n",
       "<table border=\"1\" class=\"dataframe\">\n",
       "  <thead>\n",
       "    <tr style=\"text-align: right;\">\n",
       "      <th></th>\n",
       "      <th>Value</th>\n",
       "    </tr>\n",
       "    <tr>\n",
       "      <th>Year</th>\n",
       "      <th></th>\n",
       "    </tr>\n",
       "  </thead>\n",
       "  <tbody>\n",
       "    <tr>\n",
       "      <th>2015-01-01</th>\n",
       "      <td>-10449.0</td>\n",
       "    </tr>\n",
       "    <tr>\n",
       "      <th>2016-01-01</th>\n",
       "      <td>50000.0</td>\n",
       "    </tr>\n",
       "    <tr>\n",
       "      <th>2017-01-01</th>\n",
       "      <td>18750.0</td>\n",
       "    </tr>\n",
       "    <tr>\n",
       "      <th>2018-01-01</th>\n",
       "      <td>18750.0</td>\n",
       "    </tr>\n",
       "    <tr>\n",
       "      <th>2019-01-01</th>\n",
       "      <td>13000.0</td>\n",
       "    </tr>\n",
       "    <tr>\n",
       "      <th>2020-01-01</th>\n",
       "      <td>12500.0</td>\n",
       "    </tr>\n",
       "    <tr>\n",
       "      <th>2021-01-01</th>\n",
       "      <td>75000.0</td>\n",
       "    </tr>\n",
       "  </tbody>\n",
       "</table>\n",
       "</div>"
      ],
      "text/plain": [
       "              Value\n",
       "Year               \n",
       "2015-01-01 -10449.0\n",
       "2016-01-01  50000.0\n",
       "2017-01-01  18750.0\n",
       "2018-01-01  18750.0\n",
       "2019-01-01  13000.0\n",
       "2020-01-01  12500.0\n",
       "2021-01-01  75000.0"
      ]
     },
     "execution_count": 106,
     "metadata": {},
     "output_type": "execute_result"
    }
   ],
   "source": [
    "### dropping nan row\n",
    "data_dif.drop(labels = \"2014-01-01\", axis = 0)"
   ]
  },
  {
   "cell_type": "code",
   "execution_count": 108,
   "id": "37de7632-ad36-4a5a-b52e-4bee72063462",
   "metadata": {},
   "outputs": [
    {
     "data": {
      "text/html": [
       "<div>\n",
       "<style scoped>\n",
       "    .dataframe tbody tr th:only-of-type {\n",
       "        vertical-align: middle;\n",
       "    }\n",
       "\n",
       "    .dataframe tbody tr th {\n",
       "        vertical-align: top;\n",
       "    }\n",
       "\n",
       "    .dataframe thead th {\n",
       "        text-align: right;\n",
       "    }\n",
       "</style>\n",
       "<table border=\"1\" class=\"dataframe\">\n",
       "  <thead>\n",
       "    <tr style=\"text-align: right;\">\n",
       "      <th></th>\n",
       "      <th>Value</th>\n",
       "    </tr>\n",
       "    <tr>\n",
       "      <th>Year</th>\n",
       "      <th></th>\n",
       "    </tr>\n",
       "  </thead>\n",
       "  <tbody>\n",
       "    <tr>\n",
       "      <th>2014-01-01</th>\n",
       "      <td>NaN</td>\n",
       "    </tr>\n",
       "    <tr>\n",
       "      <th>2016-01-01</th>\n",
       "      <td>50000.0</td>\n",
       "    </tr>\n",
       "    <tr>\n",
       "      <th>2017-01-01</th>\n",
       "      <td>18750.0</td>\n",
       "    </tr>\n",
       "    <tr>\n",
       "      <th>2018-01-01</th>\n",
       "      <td>18750.0</td>\n",
       "    </tr>\n",
       "    <tr>\n",
       "      <th>2019-01-01</th>\n",
       "      <td>13000.0</td>\n",
       "    </tr>\n",
       "    <tr>\n",
       "      <th>2020-01-01</th>\n",
       "      <td>12500.0</td>\n",
       "    </tr>\n",
       "    <tr>\n",
       "      <th>2021-01-01</th>\n",
       "      <td>75000.0</td>\n",
       "    </tr>\n",
       "  </tbody>\n",
       "</table>\n",
       "</div>"
      ],
      "text/plain": [
       "              Value\n",
       "Year               \n",
       "2014-01-01      NaN\n",
       "2016-01-01  50000.0\n",
       "2017-01-01  18750.0\n",
       "2018-01-01  18750.0\n",
       "2019-01-01  13000.0\n",
       "2020-01-01  12500.0\n",
       "2021-01-01  75000.0"
      ]
     },
     "execution_count": 108,
     "metadata": {},
     "output_type": "execute_result"
    }
   ],
   "source": [
    "### dropping nan row\n",
    "data_dif.drop(labels = \"2015-01-01\", axis = 0)"
   ]
  },
  {
   "cell_type": "code",
   "execution_count": 110,
   "id": "95ade75d-4ca9-4ff5-8df5-91b03dfb6024",
   "metadata": {},
   "outputs": [],
   "source": [
    "### dropping nan row\n",
    "data_dif.drop(labels = [\"2015-01-01\",\"2014-01-01\"], axis = 0, inplace = True)"
   ]
  },
  {
   "cell_type": "code",
   "execution_count": 111,
   "id": "d9f43a76-7852-4617-ab2f-1947a2b07eab",
   "metadata": {},
   "outputs": [
    {
     "data": {
      "text/html": [
       "<div>\n",
       "<style scoped>\n",
       "    .dataframe tbody tr th:only-of-type {\n",
       "        vertical-align: middle;\n",
       "    }\n",
       "\n",
       "    .dataframe tbody tr th {\n",
       "        vertical-align: top;\n",
       "    }\n",
       "\n",
       "    .dataframe thead th {\n",
       "        text-align: right;\n",
       "    }\n",
       "</style>\n",
       "<table border=\"1\" class=\"dataframe\">\n",
       "  <thead>\n",
       "    <tr style=\"text-align: right;\">\n",
       "      <th></th>\n",
       "      <th>Value</th>\n",
       "    </tr>\n",
       "    <tr>\n",
       "      <th>Year</th>\n",
       "      <th></th>\n",
       "    </tr>\n",
       "  </thead>\n",
       "  <tbody>\n",
       "    <tr>\n",
       "      <th>2016-01-01</th>\n",
       "      <td>50000.0</td>\n",
       "    </tr>\n",
       "    <tr>\n",
       "      <th>2017-01-01</th>\n",
       "      <td>18750.0</td>\n",
       "    </tr>\n",
       "    <tr>\n",
       "      <th>2018-01-01</th>\n",
       "      <td>18750.0</td>\n",
       "    </tr>\n",
       "    <tr>\n",
       "      <th>2019-01-01</th>\n",
       "      <td>13000.0</td>\n",
       "    </tr>\n",
       "    <tr>\n",
       "      <th>2020-01-01</th>\n",
       "      <td>12500.0</td>\n",
       "    </tr>\n",
       "    <tr>\n",
       "      <th>2021-01-01</th>\n",
       "      <td>75000.0</td>\n",
       "    </tr>\n",
       "  </tbody>\n",
       "</table>\n",
       "</div>"
      ],
      "text/plain": [
       "              Value\n",
       "Year               \n",
       "2016-01-01  50000.0\n",
       "2017-01-01  18750.0\n",
       "2018-01-01  18750.0\n",
       "2019-01-01  13000.0\n",
       "2020-01-01  12500.0\n",
       "2021-01-01  75000.0"
      ]
     },
     "execution_count": 111,
     "metadata": {},
     "output_type": "execute_result"
    }
   ],
   "source": [
    "data_dif.head(10)"
   ]
  },
  {
   "cell_type": "code",
   "execution_count": 112,
   "id": "aed3d3cd-55cf-4582-9fca-ec5f7523df7b",
   "metadata": {},
   "outputs": [
    {
     "name": "stdout",
     "output_type": "stream",
     "text": [
      "Dickey-Fuller Stationarity test:\n",
      "Test Statistic                -1.588548\n",
      "p-value                        0.489344\n",
      "Number of Lags Used            0.000000\n",
      "Number of Observations Used    5.000000\n",
      "Critical Value (1%)           -6.045114\n",
      "Critical Value (5%)           -3.929280\n",
      "Critical Value (10%)          -2.986810\n",
      "dtype: float64\n"
     ]
    }
   ],
   "source": [
    "# The adfuller() function will import from the model from statsmodels for the test; however, running it will only return \n",
    "# an array of numbers. This is why you need to also define a function that prints the correct output from that array.\n",
    "\n",
    "from statsmodels.tsa.stattools import adfuller # Import the adfuller() function\n",
    "\n",
    "def dickey_fuller(timeseries): # Define the function\n",
    "    # Perform the Dickey-Fuller test:\n",
    "    print ('Dickey-Fuller Stationarity test:')\n",
    "    test = adfuller(timeseries, autolag='AIC')\n",
    "    result = pd.Series(test[0:4], index=['Test Statistic','p-value','Number of Lags Used','Number of Observations Used'])\n",
    "    for key,value in test[4].items():\n",
    "       result['Critical Value (%s)'%key] = value\n",
    "    print (result)\n",
    "\n",
    "# Apply the test using the function on the time series\n",
    "dickey_fuller(data_dif['Value'])"
   ]
  },
  {
   "cell_type": "markdown",
   "id": "c1d43f3b-47f8-4d23-a9a6-516ef2642291",
   "metadata": {},
   "source": [
    "### Have to conduct another round of differencing, as the test stat is still > crits"
   ]
  },
  {
   "cell_type": "code",
   "execution_count": 113,
   "id": "9deda610-96f1-4843-8412-aa1eed7b233a",
   "metadata": {},
   "outputs": [],
   "source": [
    "df_dif2 = data_dif - data_dif.shift(1)"
   ]
  },
  {
   "cell_type": "code",
   "execution_count": 114,
   "id": "f4fb614e-c5d4-4a9a-957e-26c6211a4f7c",
   "metadata": {},
   "outputs": [
    {
     "data": {
      "text/plain": [
       "[<matplotlib.lines.Line2D at 0x147bbf890>]"
      ]
     },
     "execution_count": 114,
     "metadata": {},
     "output_type": "execute_result"
    },
    {
     "data": {
      "image/png": "[encoded data removed]",
      "text/plain": [
       "<Figure size 1500x500 with 1 Axes>"
      ]
     },
     "metadata": {},
     "output_type": "display_data"
    }
   ],
   "source": [
    "plt.figure(figsize=(15,5), dpi=100)\n",
    "plt.plot(df_dif2)"
   ]
  },
  {
   "cell_type": "markdown",
   "id": "0c8aaf5f-6703-4a39-9c15-d324465753c4",
   "metadata": {},
   "source": [
    "### If I keep differencing, there will be no more data."
   ]
  },
  {
   "cell_type": "markdown",
   "id": "f666dc37-e8d8-4e3b-ae54-b9722d0ca23c",
   "metadata": {},
   "source": [
    "### The first differencing may be the most useful."
   ]
  },
  {
   "cell_type": "code",
   "execution_count": null,
   "id": "b1b0da2f-afab-45ed-9a67-4fe1e63cb42d",
   "metadata": {},
   "outputs": [],
   "source": []
  }
 ],
 "metadata": {
  "kernelspec": {
   "display_name": "Python 3 (ipykernel)",
   "language": "python",
   "name": "python3"
  },
  "language_info": {
   "codemirror_mode": {
    "name": "ipython",
    "version": 3
   },
   "file_extension": ".py",
   "mimetype": "text/x-python",
   "name": "python",
   "nbconvert_exporter": "python",
   "pygments_lexer": "ipython3",
   "version": "3.11.5"
  }
 },
 "nbformat": 4,
 "nbformat_minor": 5
}
